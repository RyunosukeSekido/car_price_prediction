{
 "cells": [
  {
   "cell_type": "code",
   "execution_count": 38,
   "id": "b3aa2253",
   "metadata": {},
   "outputs": [],
   "source": [
    "import pandas as pd\n",
    "import numpy as np\n",
    "import math\n",
    "from sklearn.model_selection import train_test_split\n",
    "from sklearn.ensemble import RandomForestRegressor\n",
    "from sklearn.metrics import mean_squared_error, r2_score\n",
    "from sklearn.metrics import mean_absolute_percentage_error"
   ]
  },
  {
   "cell_type": "code",
   "execution_count": 2,
   "id": "fcb1b632",
   "metadata": {},
   "outputs": [],
   "source": [
    "import utils.data_preprocessing as dp"
   ]
  },
  {
   "cell_type": "markdown",
   "id": "133e18a5",
   "metadata": {},
   "source": [
    "# データの読み込み"
   ]
  },
  {
   "cell_type": "code",
   "execution_count": 3,
   "id": "9b4eac2f",
   "metadata": {},
   "outputs": [],
   "source": [
    "train = pd.read_csv(\"../data/train.csv\")\n",
    "test = pd.read_csv(\"../data/test.csv\")"
   ]
  },
  {
   "cell_type": "code",
   "execution_count": 4,
   "id": "e02e3548",
   "metadata": {
    "scrolled": true
   },
   "outputs": [
    {
     "data": {
      "text/html": [
       "<div>\n",
       "<style scoped>\n",
       "    .dataframe tbody tr th:only-of-type {\n",
       "        vertical-align: middle;\n",
       "    }\n",
       "\n",
       "    .dataframe tbody tr th {\n",
       "        vertical-align: top;\n",
       "    }\n",
       "\n",
       "    .dataframe thead th {\n",
       "        text-align: right;\n",
       "    }\n",
       "</style>\n",
       "<table border=\"1\" class=\"dataframe\">\n",
       "  <thead>\n",
       "    <tr style=\"text-align: right;\">\n",
       "      <th></th>\n",
       "      <th>id</th>\n",
       "      <th>region</th>\n",
       "      <th>year</th>\n",
       "      <th>manufacturer</th>\n",
       "      <th>condition</th>\n",
       "      <th>cylinders</th>\n",
       "      <th>fuel</th>\n",
       "      <th>odometer</th>\n",
       "      <th>title_status</th>\n",
       "      <th>transmission</th>\n",
       "      <th>drive</th>\n",
       "      <th>size</th>\n",
       "      <th>type</th>\n",
       "      <th>paint_color</th>\n",
       "      <th>state</th>\n",
       "      <th>price</th>\n",
       "    </tr>\n",
       "  </thead>\n",
       "  <tbody>\n",
       "    <tr>\n",
       "      <th>0</th>\n",
       "      <td>0</td>\n",
       "      <td>nashville</td>\n",
       "      <td>1949</td>\n",
       "      <td>bmw</td>\n",
       "      <td>excellent</td>\n",
       "      <td>6 cylinders</td>\n",
       "      <td>gas</td>\n",
       "      <td>115148</td>\n",
       "      <td>clean</td>\n",
       "      <td>manual</td>\n",
       "      <td>rwd</td>\n",
       "      <td>mid-size</td>\n",
       "      <td>convertible</td>\n",
       "      <td>orange</td>\n",
       "      <td>NaN</td>\n",
       "      <td>27587</td>\n",
       "    </tr>\n",
       "    <tr>\n",
       "      <th>1</th>\n",
       "      <td>1</td>\n",
       "      <td>state college</td>\n",
       "      <td>2013</td>\n",
       "      <td>toyota</td>\n",
       "      <td>fair</td>\n",
       "      <td>8 cylinders</td>\n",
       "      <td>gas</td>\n",
       "      <td>172038</td>\n",
       "      <td>clean</td>\n",
       "      <td>automatic</td>\n",
       "      <td>rwd</td>\n",
       "      <td>full-size</td>\n",
       "      <td>sedan</td>\n",
       "      <td>silver</td>\n",
       "      <td>pa</td>\n",
       "      <td>4724</td>\n",
       "    </tr>\n",
       "    <tr>\n",
       "      <th>2</th>\n",
       "      <td>2</td>\n",
       "      <td>wichita</td>\n",
       "      <td>1998</td>\n",
       "      <td>ford</td>\n",
       "      <td>good</td>\n",
       "      <td>6 cylinders</td>\n",
       "      <td>gas</td>\n",
       "      <td>152492</td>\n",
       "      <td>clean</td>\n",
       "      <td>automatic</td>\n",
       "      <td>fwd</td>\n",
       "      <td>full-size</td>\n",
       "      <td>SUV</td>\n",
       "      <td>silver</td>\n",
       "      <td>ks</td>\n",
       "      <td>10931</td>\n",
       "    </tr>\n",
       "    <tr>\n",
       "      <th>3</th>\n",
       "      <td>3</td>\n",
       "      <td>albany</td>\n",
       "      <td>2014</td>\n",
       "      <td>ford</td>\n",
       "      <td>excellent</td>\n",
       "      <td>4 cylinders</td>\n",
       "      <td>gas</td>\n",
       "      <td>104118</td>\n",
       "      <td>clean</td>\n",
       "      <td>manual</td>\n",
       "      <td>fwd</td>\n",
       "      <td>mid-size</td>\n",
       "      <td>SUV</td>\n",
       "      <td>blue</td>\n",
       "      <td>ny</td>\n",
       "      <td>16553</td>\n",
       "    </tr>\n",
       "    <tr>\n",
       "      <th>4</th>\n",
       "      <td>4</td>\n",
       "      <td>redding</td>\n",
       "      <td>2005</td>\n",
       "      <td>ford</td>\n",
       "      <td>excellent</td>\n",
       "      <td>6 cylinders</td>\n",
       "      <td>gas</td>\n",
       "      <td>144554</td>\n",
       "      <td>clean</td>\n",
       "      <td>manual</td>\n",
       "      <td>fwd</td>\n",
       "      <td>mid-size</td>\n",
       "      <td>sedan</td>\n",
       "      <td>red</td>\n",
       "      <td>ca</td>\n",
       "      <td>5158</td>\n",
       "    </tr>\n",
       "    <tr>\n",
       "      <th>...</th>\n",
       "      <td>...</td>\n",
       "      <td>...</td>\n",
       "      <td>...</td>\n",
       "      <td>...</td>\n",
       "      <td>...</td>\n",
       "      <td>...</td>\n",
       "      <td>...</td>\n",
       "      <td>...</td>\n",
       "      <td>...</td>\n",
       "      <td>...</td>\n",
       "      <td>...</td>\n",
       "      <td>...</td>\n",
       "      <td>...</td>\n",
       "      <td>...</td>\n",
       "      <td>...</td>\n",
       "      <td>...</td>\n",
       "    </tr>\n",
       "    <tr>\n",
       "      <th>27527</th>\n",
       "      <td>27527</td>\n",
       "      <td>williamsport</td>\n",
       "      <td>2008</td>\n",
       "      <td>ford</td>\n",
       "      <td>good</td>\n",
       "      <td>6 cylinders</td>\n",
       "      <td>gas</td>\n",
       "      <td>26660</td>\n",
       "      <td>clean</td>\n",
       "      <td>automatic</td>\n",
       "      <td>rwd</td>\n",
       "      <td>compact</td>\n",
       "      <td>truck</td>\n",
       "      <td>black</td>\n",
       "      <td>pa</td>\n",
       "      <td>32212</td>\n",
       "    </tr>\n",
       "    <tr>\n",
       "      <th>27528</th>\n",
       "      <td>27528</td>\n",
       "      <td>tulsa</td>\n",
       "      <td>2007</td>\n",
       "      <td>ford</td>\n",
       "      <td>excellent</td>\n",
       "      <td>8 cylinders</td>\n",
       "      <td>gas</td>\n",
       "      <td>108072</td>\n",
       "      <td>clean</td>\n",
       "      <td>automatic</td>\n",
       "      <td>rwd</td>\n",
       "      <td>full-size</td>\n",
       "      <td>pickup</td>\n",
       "      <td>black</td>\n",
       "      <td>NaN</td>\n",
       "      <td>5400</td>\n",
       "    </tr>\n",
       "    <tr>\n",
       "      <th>27529</th>\n",
       "      <td>27529</td>\n",
       "      <td>rochester</td>\n",
       "      <td>2019</td>\n",
       "      <td>jeep</td>\n",
       "      <td>like new</td>\n",
       "      <td>6 cylinders</td>\n",
       "      <td>gas</td>\n",
       "      <td>139908</td>\n",
       "      <td>clean</td>\n",
       "      <td>automatic</td>\n",
       "      <td>4wd</td>\n",
       "      <td>mid-size</td>\n",
       "      <td>SUV</td>\n",
       "      <td>white</td>\n",
       "      <td>ny</td>\n",
       "      <td>22227</td>\n",
       "    </tr>\n",
       "    <tr>\n",
       "      <th>27530</th>\n",
       "      <td>27530</td>\n",
       "      <td>rochester</td>\n",
       "      <td>2007</td>\n",
       "      <td>jeep</td>\n",
       "      <td>excellent</td>\n",
       "      <td>6 cylinders</td>\n",
       "      <td>gas</td>\n",
       "      <td>112326</td>\n",
       "      <td>clean</td>\n",
       "      <td>automatic</td>\n",
       "      <td>4wd</td>\n",
       "      <td>mid-size</td>\n",
       "      <td>sedan</td>\n",
       "      <td>white</td>\n",
       "      <td>ny</td>\n",
       "      <td>3054</td>\n",
       "    </tr>\n",
       "    <tr>\n",
       "      <th>27531</th>\n",
       "      <td>27531</td>\n",
       "      <td>orange county</td>\n",
       "      <td>2009</td>\n",
       "      <td>chevrolet</td>\n",
       "      <td>excellent</td>\n",
       "      <td>8 cylinders</td>\n",
       "      <td>gas</td>\n",
       "      <td>91813</td>\n",
       "      <td>rebuilt</td>\n",
       "      <td>automatic</td>\n",
       "      <td>rwd</td>\n",
       "      <td>full-size</td>\n",
       "      <td>van</td>\n",
       "      <td>white</td>\n",
       "      <td>ca</td>\n",
       "      <td>20801</td>\n",
       "    </tr>\n",
       "  </tbody>\n",
       "</table>\n",
       "<p>27532 rows × 16 columns</p>\n",
       "</div>"
      ],
      "text/plain": [
       "          id         region  year manufacturer  condition    cylinders fuel  \\\n",
       "0          0      nashville  1949          bmw  excellent  6 cylinders  gas   \n",
       "1          1  state college  2013       toyota       fair  8 cylinders  gas   \n",
       "2          2        wichita  1998         ford       good  6 cylinders  gas   \n",
       "3          3         albany  2014         ford  excellent  4 cylinders  gas   \n",
       "4          4        redding  2005         ford  excellent  6 cylinders  gas   \n",
       "...      ...            ...   ...          ...        ...          ...  ...   \n",
       "27527  27527   williamsport  2008         ford       good  6 cylinders  gas   \n",
       "27528  27528          tulsa  2007         ford  excellent  8 cylinders  gas   \n",
       "27529  27529      rochester  2019         jeep   like new  6 cylinders  gas   \n",
       "27530  27530      rochester  2007         jeep  excellent  6 cylinders  gas   \n",
       "27531  27531  orange county  2009    chevrolet  excellent  8 cylinders  gas   \n",
       "\n",
       "       odometer title_status transmission drive       size         type  \\\n",
       "0        115148        clean       manual   rwd   mid-size  convertible   \n",
       "1        172038        clean    automatic   rwd  full-size        sedan   \n",
       "2        152492        clean    automatic   fwd  full-size          SUV   \n",
       "3        104118        clean       manual   fwd   mid-size          SUV   \n",
       "4        144554        clean       manual   fwd   mid-size        sedan   \n",
       "...         ...          ...          ...   ...        ...          ...   \n",
       "27527     26660        clean    automatic   rwd    compact        truck   \n",
       "27528    108072        clean    automatic   rwd  full-size       pickup   \n",
       "27529    139908        clean    automatic   4wd   mid-size          SUV   \n",
       "27530    112326        clean    automatic   4wd   mid-size        sedan   \n",
       "27531     91813      rebuilt    automatic   rwd  full-size          van   \n",
       "\n",
       "      paint_color state  price  \n",
       "0          orange   NaN  27587  \n",
       "1          silver    pa   4724  \n",
       "2          silver    ks  10931  \n",
       "3            blue    ny  16553  \n",
       "4             red    ca   5158  \n",
       "...           ...   ...    ...  \n",
       "27527       black    pa  32212  \n",
       "27528       black   NaN   5400  \n",
       "27529       white    ny  22227  \n",
       "27530       white    ny   3054  \n",
       "27531       white    ca  20801  \n",
       "\n",
       "[27532 rows x 16 columns]"
      ]
     },
     "execution_count": 4,
     "metadata": {},
     "output_type": "execute_result"
    }
   ],
   "source": [
    "train"
   ]
  },
  {
   "cell_type": "code",
   "execution_count": 5,
   "id": "1db6aa8c",
   "metadata": {
    "scrolled": true
   },
   "outputs": [
    {
     "data": {
      "text/plain": [
       "ford          6166\n",
       "chevrolet     3339\n",
       "bmw           2736\n",
       "toyota        1570\n",
       "honda         1526\n",
       "              ... \n",
       "ｓａｔｕｒｎ           1\n",
       "ＭＩＴＳＵＢＩＳＨＩ       1\n",
       "lexuѕ            1\n",
       "ＭＥＲＣＵＲＹ          1\n",
       "ᴄhrysler         1\n",
       "Name: manufacturer, Length: 125, dtype: int64"
      ]
     },
     "execution_count": 5,
     "metadata": {},
     "output_type": "execute_result"
    }
   ],
   "source": [
    "train[\"manufacturer\"].value_counts()"
   ]
  },
  {
   "cell_type": "markdown",
   "id": "d33bf7fb",
   "metadata": {},
   "source": [
    "# 定数"
   ]
  },
  {
   "cell_type": "code",
   "execution_count": 6,
   "id": "a6146905",
   "metadata": {},
   "outputs": [],
   "source": [
    "area_mapping = {\n",
    "    # trainデータ\n",
    "    'SF bay area': 'California',\n",
    "    'ashtabula': 'Ohio',\n",
    "    'brainerd': 'Minnesota',\n",
    "    'brownsville': 'Texas',\n",
    "    'columbia': 'South Carolina',\n",
    "    'columbia / jeff city': 'Missouri',\n",
    "    'daytona beach': 'Florida',\n",
    "    'dubuque': 'Iowa',\n",
    "    'el paso': 'Texas',\n",
    "    'flagstaff / sedona': 'Arizona',\n",
    "    'florence': 'South Carolina',\n",
    "    'florida keys': 'Florida',\n",
    "    'galveston': 'Texas',\n",
    "    'grand forks': 'North Dakota',\n",
    "    'grand rapids': 'Michigan',\n",
    "    'great falls': 'Montana',\n",
    "    'heartland florida': 'Florida',\n",
    "    'imperial county': 'California',\n",
    "    'joplin': 'Missouri',\n",
    "    'kalispell': 'Montana',\n",
    "    'lakeland': 'Florida',\n",
    "    'las vegas': 'Nevada',\n",
    "    'lawton': 'Oklahoma',\n",
    "    'long island': 'New York',\n",
    "    'manhattan': 'New York',\n",
    "    'merced': 'California',\n",
    "    'minneapolis / st paul': 'Minnesota',\n",
    "    'morgantown': 'West Virginia',\n",
    "    'moses lake': 'Washington',\n",
    "    'nashville': 'Tennessee',\n",
    "    'northeast SD': 'South Dakota',\n",
    "    'northwest KS': 'Kansas',\n",
    "    'panama city': 'Florida',\n",
    "    'pittsburgh': 'Pennsylvania',\n",
    "    'poconos': 'Pennsylvania',\n",
    "    'pullman / moscow': 'Washington',\n",
    "    'raleigh / durham / CH': 'North Carolina',\n",
    "    'rockford': 'Illinois',\n",
    "    'salem': 'Oregon',\n",
    "    'san antonio': 'Texas',\n",
    "    'san diego': 'California',\n",
    "    'savannah / hinesville': 'Georgia',\n",
    "    'southern WV': 'West Virginia',\n",
    "    'southwest VA': 'Virginia',\n",
    "    'spokane / coeur d\\'alene': 'Washington',\n",
    "    'tallahassee': 'Florida',\n",
    "    'tucson': 'Arizona',\n",
    "    'utica-rome-oneida': 'New York',\n",
    "    'valdosta': 'Georgia',\n",
    "    'vermont': 'Vermont',\n",
    "    'waterloo / cedar falls': 'Iowa',\n",
    "    'watertown': 'New York',\n",
    "    'western KY': 'Kentucky',\n",
    "    'yuba-sutter': 'California',\n",
    "    'yuma': 'Arizona',\n",
    "    #  testデータ\n",
    "    'birmingham': 'Alabama',\n",
    "    'central michigan': 'Michigan',\n",
    "    'charleston': 'South Carolina',\n",
    "    'cleveland': 'Ohio',\n",
    "    'east oregon': 'Oregon',\n",
    "    'eastern NC': 'North Carolina',\n",
    "    'glens falls': 'New York',\n",
    "    'hanford-corcoran': 'California',\n",
    "    'huntsville / decatur': 'Alabama',\n",
    "    'jersey shore': 'New Jersey',\n",
    "    'lafayette': 'Louisiana',\n",
    "    'muskegon': 'Michigan',\n",
    "    'ocala': 'Florida',\n",
    "    'prescott': 'Arizona',\n",
    "    'rochester': 'New York',\n",
    "    'siskiyou county': 'California',\n",
    "    'texarkana': 'Texas',\n",
    "    'waco': 'Texas',\n",
    "    'western slope': 'Colorado',\n",
    "    'wyoming': 'Wyoming'\n",
    "} "
   ]
  },
  {
   "cell_type": "markdown",
   "id": "572f7761",
   "metadata": {},
   "source": [
    "# 前処理"
   ]
  },
  {
   "cell_type": "code",
   "execution_count": 7,
   "id": "2775e8fe",
   "metadata": {},
   "outputs": [],
   "source": [
    "# manufacturer\n",
    "train = dp.preprocess_manufacturer(train)"
   ]
  },
  {
   "cell_type": "code",
   "execution_count": 8,
   "id": "7d459c04",
   "metadata": {},
   "outputs": [],
   "source": [
    "# year\n",
    "train = dp.fix_year_column(train)"
   ]
  },
  {
   "cell_type": "code",
   "execution_count": 9,
   "id": "81677c21",
   "metadata": {},
   "outputs": [],
   "source": [
    "#odometer（負を正に転換）\n",
    "train[\"odometer\"] = (train[\"odometer\"]**2)**0.5"
   ]
  },
  {
   "cell_type": "code",
   "execution_count": 10,
   "id": "9c893b1e",
   "metadata": {},
   "outputs": [],
   "source": [
    "# size\n",
    "train = dp.normalize_size_column(train)"
   ]
  },
  {
   "cell_type": "code",
   "execution_count": 11,
   "id": "72aac261",
   "metadata": {},
   "outputs": [],
   "source": [
    "# state\n",
    "dp.fill_missing_state(train, area_mapping)"
   ]
  },
  {
   "cell_type": "code",
   "execution_count": 12,
   "id": "d16ab623",
   "metadata": {},
   "outputs": [],
   "source": [
    "# fuel, title_status, type（現状、最頻値で埋めている）\n",
    "dp.fillna_with_mode(train, ['fuel', 'title_status', 'type'])"
   ]
  },
  {
   "cell_type": "code",
   "execution_count": 13,
   "id": "9918b43f",
   "metadata": {},
   "outputs": [
    {
     "data": {
      "text/plain": [
       "id              0\n",
       "region          0\n",
       "year            0\n",
       "manufacturer    0\n",
       "condition       0\n",
       "cylinders       0\n",
       "fuel            0\n",
       "odometer        0\n",
       "title_status    0\n",
       "transmission    0\n",
       "drive           0\n",
       "size            0\n",
       "type            0\n",
       "paint_color     0\n",
       "state           0\n",
       "price           0\n",
       "dtype: int64"
      ]
     },
     "execution_count": 13,
     "metadata": {},
     "output_type": "execute_result"
    }
   ],
   "source": [
    "train.isnull().sum()"
   ]
  },
  {
   "cell_type": "code",
   "execution_count": 14,
   "id": "6ae0f311",
   "metadata": {},
   "outputs": [
    {
     "data": {
      "text/plain": [
       "count    2.753200e+04\n",
       "mean     1.160295e+05\n",
       "std      6.449916e+04\n",
       "min      1.000000e+00\n",
       "25%      7.837100e+04\n",
       "50%      1.114530e+05\n",
       "75%      1.508562e+05\n",
       "max      2.946000e+06\n",
       "Name: odometer, dtype: float64"
      ]
     },
     "execution_count": 14,
     "metadata": {},
     "output_type": "execute_result"
    }
   ],
   "source": [
    "train[\"odometer\"].describe()"
   ]
  },
  {
   "cell_type": "code",
   "execution_count": 15,
   "id": "05123120",
   "metadata": {},
   "outputs": [
    {
     "data": {
      "text/plain": [
       "79"
      ]
     },
     "execution_count": 15,
     "metadata": {},
     "output_type": "execute_result"
    }
   ],
   "source": [
    "len(train[\"state\"].value_counts(dropna=False))"
   ]
  },
  {
   "cell_type": "code",
   "execution_count": 16,
   "id": "3f20bf2f",
   "metadata": {},
   "outputs": [
    {
     "data": {
      "text/plain": [
       "372"
      ]
     },
     "execution_count": 16,
     "metadata": {},
     "output_type": "execute_result"
    }
   ],
   "source": [
    "len(train[\"region\"].value_counts(dropna=False))"
   ]
  },
  {
   "cell_type": "markdown",
   "id": "2906473a",
   "metadata": {},
   "source": [
    "# 特徴量の追加"
   ]
  },
  {
   "cell_type": "code",
   "execution_count": 17,
   "id": "6ddad359",
   "metadata": {},
   "outputs": [],
   "source": [
    "# odometerを5000で丸める\n",
    "# train[\"odometer_bin5000\"]=train[\"odometer\"]//5000\n",
    "# train.head()"
   ]
  },
  {
   "cell_type": "code",
   "execution_count": 18,
   "id": "045cde66",
   "metadata": {},
   "outputs": [],
   "source": [
    "# 人気度をカウント数で算出する（現状これだけだと精度が落ちる）\n",
    "# df_mts=df_train[[\"id\",\"manufacturer\",\"type\",\"size\"]].groupby([\"manufacturer\",\"type\",\"size\"]).count().reset_index()\n",
    "# df_mts.columns=[\"manufacturer\",\"type\",\"size\",\"mts_counts\"]\n",
    "# df_mts\n",
    "# train=pd.merge(train,df_mts,on=[\"manufacturer\",\"type\",\"size\"],how=\"left\")"
   ]
  },
  {
   "cell_type": "code",
   "execution_count": 19,
   "id": "3f62f719",
   "metadata": {
    "scrolled": true
   },
   "outputs": [
    {
     "data": {
      "text/html": [
       "<div>\n",
       "<style scoped>\n",
       "    .dataframe tbody tr th:only-of-type {\n",
       "        vertical-align: middle;\n",
       "    }\n",
       "\n",
       "    .dataframe tbody tr th {\n",
       "        vertical-align: top;\n",
       "    }\n",
       "\n",
       "    .dataframe thead th {\n",
       "        text-align: right;\n",
       "    }\n",
       "</style>\n",
       "<table border=\"1\" class=\"dataframe\">\n",
       "  <thead>\n",
       "    <tr style=\"text-align: right;\">\n",
       "      <th></th>\n",
       "      <th>id</th>\n",
       "      <th>region</th>\n",
       "      <th>year</th>\n",
       "      <th>manufacturer</th>\n",
       "      <th>condition</th>\n",
       "      <th>cylinders</th>\n",
       "      <th>fuel</th>\n",
       "      <th>odometer</th>\n",
       "      <th>title_status</th>\n",
       "      <th>transmission</th>\n",
       "      <th>drive</th>\n",
       "      <th>size</th>\n",
       "      <th>type</th>\n",
       "      <th>paint_color</th>\n",
       "      <th>state</th>\n",
       "      <th>price</th>\n",
       "    </tr>\n",
       "  </thead>\n",
       "  <tbody>\n",
       "    <tr>\n",
       "      <th>0</th>\n",
       "      <td>0</td>\n",
       "      <td>nashville</td>\n",
       "      <td>1949</td>\n",
       "      <td>bmw</td>\n",
       "      <td>excellent</td>\n",
       "      <td>6 cylinders</td>\n",
       "      <td>gas</td>\n",
       "      <td>115148.0</td>\n",
       "      <td>clean</td>\n",
       "      <td>manual</td>\n",
       "      <td>rwd</td>\n",
       "      <td>mid-size</td>\n",
       "      <td>convertible</td>\n",
       "      <td>orange</td>\n",
       "      <td>Tennessee</td>\n",
       "      <td>4.440704</td>\n",
       "    </tr>\n",
       "    <tr>\n",
       "      <th>1</th>\n",
       "      <td>1</td>\n",
       "      <td>state college</td>\n",
       "      <td>2013</td>\n",
       "      <td>toyota</td>\n",
       "      <td>fair</td>\n",
       "      <td>8 cylinders</td>\n",
       "      <td>gas</td>\n",
       "      <td>172038.0</td>\n",
       "      <td>clean</td>\n",
       "      <td>automatic</td>\n",
       "      <td>rwd</td>\n",
       "      <td>full-size</td>\n",
       "      <td>sedan</td>\n",
       "      <td>silver</td>\n",
       "      <td>pa</td>\n",
       "      <td>3.674310</td>\n",
       "    </tr>\n",
       "    <tr>\n",
       "      <th>2</th>\n",
       "      <td>2</td>\n",
       "      <td>wichita</td>\n",
       "      <td>1998</td>\n",
       "      <td>ford</td>\n",
       "      <td>good</td>\n",
       "      <td>6 cylinders</td>\n",
       "      <td>gas</td>\n",
       "      <td>152492.0</td>\n",
       "      <td>clean</td>\n",
       "      <td>automatic</td>\n",
       "      <td>fwd</td>\n",
       "      <td>full-size</td>\n",
       "      <td>SUV</td>\n",
       "      <td>silver</td>\n",
       "      <td>ks</td>\n",
       "      <td>4.038660</td>\n",
       "    </tr>\n",
       "    <tr>\n",
       "      <th>3</th>\n",
       "      <td>3</td>\n",
       "      <td>albany</td>\n",
       "      <td>2014</td>\n",
       "      <td>ford</td>\n",
       "      <td>excellent</td>\n",
       "      <td>4 cylinders</td>\n",
       "      <td>gas</td>\n",
       "      <td>104118.0</td>\n",
       "      <td>clean</td>\n",
       "      <td>manual</td>\n",
       "      <td>fwd</td>\n",
       "      <td>mid-size</td>\n",
       "      <td>SUV</td>\n",
       "      <td>blue</td>\n",
       "      <td>ny</td>\n",
       "      <td>4.218877</td>\n",
       "    </tr>\n",
       "    <tr>\n",
       "      <th>4</th>\n",
       "      <td>4</td>\n",
       "      <td>redding</td>\n",
       "      <td>2005</td>\n",
       "      <td>ford</td>\n",
       "      <td>excellent</td>\n",
       "      <td>6 cylinders</td>\n",
       "      <td>gas</td>\n",
       "      <td>144554.0</td>\n",
       "      <td>clean</td>\n",
       "      <td>manual</td>\n",
       "      <td>fwd</td>\n",
       "      <td>mid-size</td>\n",
       "      <td>sedan</td>\n",
       "      <td>red</td>\n",
       "      <td>ca</td>\n",
       "      <td>3.712481</td>\n",
       "    </tr>\n",
       "    <tr>\n",
       "      <th>...</th>\n",
       "      <td>...</td>\n",
       "      <td>...</td>\n",
       "      <td>...</td>\n",
       "      <td>...</td>\n",
       "      <td>...</td>\n",
       "      <td>...</td>\n",
       "      <td>...</td>\n",
       "      <td>...</td>\n",
       "      <td>...</td>\n",
       "      <td>...</td>\n",
       "      <td>...</td>\n",
       "      <td>...</td>\n",
       "      <td>...</td>\n",
       "      <td>...</td>\n",
       "      <td>...</td>\n",
       "      <td>...</td>\n",
       "    </tr>\n",
       "    <tr>\n",
       "      <th>27527</th>\n",
       "      <td>27527</td>\n",
       "      <td>williamsport</td>\n",
       "      <td>2008</td>\n",
       "      <td>ford</td>\n",
       "      <td>good</td>\n",
       "      <td>6 cylinders</td>\n",
       "      <td>gas</td>\n",
       "      <td>26660.0</td>\n",
       "      <td>clean</td>\n",
       "      <td>automatic</td>\n",
       "      <td>rwd</td>\n",
       "      <td>compact</td>\n",
       "      <td>truck</td>\n",
       "      <td>black</td>\n",
       "      <td>pa</td>\n",
       "      <td>4.508018</td>\n",
       "    </tr>\n",
       "    <tr>\n",
       "      <th>27528</th>\n",
       "      <td>27528</td>\n",
       "      <td>tulsa</td>\n",
       "      <td>2007</td>\n",
       "      <td>ford</td>\n",
       "      <td>excellent</td>\n",
       "      <td>8 cylinders</td>\n",
       "      <td>gas</td>\n",
       "      <td>108072.0</td>\n",
       "      <td>clean</td>\n",
       "      <td>automatic</td>\n",
       "      <td>rwd</td>\n",
       "      <td>full-size</td>\n",
       "      <td>pickup</td>\n",
       "      <td>black</td>\n",
       "      <td>ok</td>\n",
       "      <td>3.732394</td>\n",
       "    </tr>\n",
       "    <tr>\n",
       "      <th>27529</th>\n",
       "      <td>27529</td>\n",
       "      <td>rochester</td>\n",
       "      <td>2019</td>\n",
       "      <td>jeep</td>\n",
       "      <td>like new</td>\n",
       "      <td>6 cylinders</td>\n",
       "      <td>gas</td>\n",
       "      <td>139908.0</td>\n",
       "      <td>clean</td>\n",
       "      <td>automatic</td>\n",
       "      <td>4wd</td>\n",
       "      <td>mid-size</td>\n",
       "      <td>SUV</td>\n",
       "      <td>white</td>\n",
       "      <td>ny</td>\n",
       "      <td>4.346881</td>\n",
       "    </tr>\n",
       "    <tr>\n",
       "      <th>27530</th>\n",
       "      <td>27530</td>\n",
       "      <td>rochester</td>\n",
       "      <td>2007</td>\n",
       "      <td>jeep</td>\n",
       "      <td>excellent</td>\n",
       "      <td>6 cylinders</td>\n",
       "      <td>gas</td>\n",
       "      <td>112326.0</td>\n",
       "      <td>clean</td>\n",
       "      <td>automatic</td>\n",
       "      <td>4wd</td>\n",
       "      <td>mid-size</td>\n",
       "      <td>sedan</td>\n",
       "      <td>white</td>\n",
       "      <td>ny</td>\n",
       "      <td>3.484869</td>\n",
       "    </tr>\n",
       "    <tr>\n",
       "      <th>27531</th>\n",
       "      <td>27531</td>\n",
       "      <td>orange county</td>\n",
       "      <td>2009</td>\n",
       "      <td>chevrolet</td>\n",
       "      <td>excellent</td>\n",
       "      <td>8 cylinders</td>\n",
       "      <td>gas</td>\n",
       "      <td>91813.0</td>\n",
       "      <td>rebuilt</td>\n",
       "      <td>automatic</td>\n",
       "      <td>rwd</td>\n",
       "      <td>full-size</td>\n",
       "      <td>van</td>\n",
       "      <td>white</td>\n",
       "      <td>ca</td>\n",
       "      <td>4.318084</td>\n",
       "    </tr>\n",
       "  </tbody>\n",
       "</table>\n",
       "<p>27532 rows × 16 columns</p>\n",
       "</div>"
      ],
      "text/plain": [
       "          id         region  year manufacturer  condition    cylinders fuel  \\\n",
       "0          0      nashville  1949          bmw  excellent  6 cylinders  gas   \n",
       "1          1  state college  2013       toyota       fair  8 cylinders  gas   \n",
       "2          2        wichita  1998         ford       good  6 cylinders  gas   \n",
       "3          3         albany  2014         ford  excellent  4 cylinders  gas   \n",
       "4          4        redding  2005         ford  excellent  6 cylinders  gas   \n",
       "...      ...            ...   ...          ...        ...          ...  ...   \n",
       "27527  27527   williamsport  2008         ford       good  6 cylinders  gas   \n",
       "27528  27528          tulsa  2007         ford  excellent  8 cylinders  gas   \n",
       "27529  27529      rochester  2019         jeep   like new  6 cylinders  gas   \n",
       "27530  27530      rochester  2007         jeep  excellent  6 cylinders  gas   \n",
       "27531  27531  orange county  2009    chevrolet  excellent  8 cylinders  gas   \n",
       "\n",
       "       odometer title_status transmission drive       size         type  \\\n",
       "0      115148.0        clean       manual   rwd   mid-size  convertible   \n",
       "1      172038.0        clean    automatic   rwd  full-size        sedan   \n",
       "2      152492.0        clean    automatic   fwd  full-size          SUV   \n",
       "3      104118.0        clean       manual   fwd   mid-size          SUV   \n",
       "4      144554.0        clean       manual   fwd   mid-size        sedan   \n",
       "...         ...          ...          ...   ...        ...          ...   \n",
       "27527   26660.0        clean    automatic   rwd    compact        truck   \n",
       "27528  108072.0        clean    automatic   rwd  full-size       pickup   \n",
       "27529  139908.0        clean    automatic   4wd   mid-size          SUV   \n",
       "27530  112326.0        clean    automatic   4wd   mid-size        sedan   \n",
       "27531   91813.0      rebuilt    automatic   rwd  full-size          van   \n",
       "\n",
       "      paint_color      state     price  \n",
       "0          orange  Tennessee  4.440704  \n",
       "1          silver         pa  3.674310  \n",
       "2          silver         ks  4.038660  \n",
       "3            blue         ny  4.218877  \n",
       "4             red         ca  3.712481  \n",
       "...           ...        ...       ...  \n",
       "27527       black         pa  4.508018  \n",
       "27528       black         ok  3.732394  \n",
       "27529       white         ny  4.346881  \n",
       "27530       white         ny  3.484869  \n",
       "27531       white         ca  4.318084  \n",
       "\n",
       "[27532 rows x 16 columns]"
      ]
     },
     "execution_count": 19,
     "metadata": {},
     "output_type": "execute_result"
    }
   ],
   "source": [
    "# priceの修正\n",
    "train[\"price\"]=train[\"price\"].apply(lambda x:math.log10(x))\n",
    "train"
   ]
  },
  {
   "cell_type": "code",
   "execution_count": 20,
   "id": "4016f9ca",
   "metadata": {},
   "outputs": [],
   "source": [
    "# ワンホットに変換\n",
    "train = pd.get_dummies(train, columns=[\"condition\",\"manufacturer\", \"type\", \"size\", \"state\", \"region\", \"fuel\"])\n",
    "test = pd.get_dummies(test, columns=[\"condition\", \"manufacturer\", \"type\", \"size\", \"state\", \"region\", \"fuel\"])"
   ]
  },
  {
   "cell_type": "code",
   "execution_count": 21,
   "id": "5e538e3c",
   "metadata": {},
   "outputs": [
    {
     "name": "stderr",
     "output_type": "stream",
     "text": [
      "/tmp/ipykernel_6047/4237110095.py:8: PerformanceWarning: DataFrame is highly fragmented.  This is usually the result of calling `frame.insert` many times, which has poor performance.  Consider joining all columns at once using pd.concat(axis=1) instead. To get a de-fragmented frame, use `newframe = frame.copy()`\n",
      "  train[col] = 0\n",
      "/tmp/ipykernel_6047/4237110095.py:8: PerformanceWarning: DataFrame is highly fragmented.  This is usually the result of calling `frame.insert` many times, which has poor performance.  Consider joining all columns at once using pd.concat(axis=1) instead. To get a de-fragmented frame, use `newframe = frame.copy()`\n",
      "  train[col] = 0\n",
      "/tmp/ipykernel_6047/4237110095.py:8: PerformanceWarning: DataFrame is highly fragmented.  This is usually the result of calling `frame.insert` many times, which has poor performance.  Consider joining all columns at once using pd.concat(axis=1) instead. To get a de-fragmented frame, use `newframe = frame.copy()`\n",
      "  train[col] = 0\n",
      "/tmp/ipykernel_6047/4237110095.py:8: PerformanceWarning: DataFrame is highly fragmented.  This is usually the result of calling `frame.insert` many times, which has poor performance.  Consider joining all columns at once using pd.concat(axis=1) instead. To get a de-fragmented frame, use `newframe = frame.copy()`\n",
      "  train[col] = 0\n",
      "/tmp/ipykernel_6047/4237110095.py:8: PerformanceWarning: DataFrame is highly fragmented.  This is usually the result of calling `frame.insert` many times, which has poor performance.  Consider joining all columns at once using pd.concat(axis=1) instead. To get a de-fragmented frame, use `newframe = frame.copy()`\n",
      "  train[col] = 0\n"
     ]
    }
   ],
   "source": [
    "# trainデータとtestデータのカラムを揃える\n",
    "missing_cols_train = set(train.columns) - set(test.columns)\n",
    "for col in missing_cols_train:\n",
    "    test[col] = 0\n",
    "\n",
    "missing_cols_test = set(test.columns) - set(train.columns)\n",
    "for col in missing_cols_test:\n",
    "    train[col] = 0\n",
    "\n",
    "# trainデータとtestデータのカラムを並び替える（順序を揃える）\n",
    "test = test[train.columns]"
   ]
  },
  {
   "cell_type": "markdown",
   "id": "d1828059",
   "metadata": {},
   "source": [
    "# データの分割"
   ]
  },
  {
   "cell_type": "code",
   "execution_count": 22,
   "id": "c0277719",
   "metadata": {},
   "outputs": [],
   "source": [
    "from sklearn.model_selection import train_test_split"
   ]
  },
  {
   "cell_type": "code",
   "execution_count": 23,
   "id": "95bd3c05",
   "metadata": {},
   "outputs": [],
   "source": [
    "# train_train, train_test = train_test_split(train, test_size=0.2,random_state=0)"
   ]
  },
  {
   "cell_type": "code",
   "execution_count": 24,
   "id": "9d6c8685",
   "metadata": {},
   "outputs": [],
   "source": [
    "#priceは予測対象で学習に必要なため別途targetの変数に格納する\n",
    "target = train[\"price\"]\n",
    "#学習させる特徴以外を削除\n",
    "train_set = train.drop(columns=['id', 'cylinders', 'title_status', 'transmission', 'drive', 'paint_color', \"price\"], axis=1)\n",
    "test_set = test.drop(columns=['id', 'cylinders',  'title_status', 'transmission', 'drive',  'paint_color', \"price\"], axis=1)"
   ]
  },
  {
   "cell_type": "code",
   "execution_count": 25,
   "id": "75863076",
   "metadata": {},
   "outputs": [
    {
     "name": "stdout",
     "output_type": "stream",
     "text": [
      "(20649, 611) (6883, 611) (20649,) (6883,)\n"
     ]
    }
   ],
   "source": [
    "X_train, X_valid, y_train, y_valid = train_test_split(train_set, target, random_state = 82)\n",
    "print(X_train.shape, X_valid.shape, y_train.shape, y_valid.shape)"
   ]
  },
  {
   "cell_type": "code",
   "execution_count": 26,
   "id": "83625542",
   "metadata": {},
   "outputs": [],
   "source": [
    "# len(train_train)"
   ]
  },
  {
   "cell_type": "code",
   "execution_count": 27,
   "id": "f57284b4",
   "metadata": {},
   "outputs": [],
   "source": [
    "# len(train_test)"
   ]
  },
  {
   "cell_type": "code",
   "execution_count": 28,
   "id": "93a0626d",
   "metadata": {},
   "outputs": [],
   "source": [
    "# train_test"
   ]
  },
  {
   "cell_type": "markdown",
   "id": "acfe0572",
   "metadata": {},
   "source": [
    "# 学習と検証"
   ]
  },
  {
   "cell_type": "code",
   "execution_count": 29,
   "id": "51ba750f",
   "metadata": {
    "scrolled": true
   },
   "outputs": [],
   "source": [
    "# import pycaret"
   ]
  },
  {
   "cell_type": "code",
   "execution_count": 30,
   "id": "38336345",
   "metadata": {},
   "outputs": [
    {
     "data": {
      "text/html": [
       "<style>#sk-container-id-1 {color: black;background-color: white;}#sk-container-id-1 pre{padding: 0;}#sk-container-id-1 div.sk-toggleable {background-color: white;}#sk-container-id-1 label.sk-toggleable__label {cursor: pointer;display: block;width: 100%;margin-bottom: 0;padding: 0.3em;box-sizing: border-box;text-align: center;}#sk-container-id-1 label.sk-toggleable__label-arrow:before {content: \"▸\";float: left;margin-right: 0.25em;color: #696969;}#sk-container-id-1 label.sk-toggleable__label-arrow:hover:before {color: black;}#sk-container-id-1 div.sk-estimator:hover label.sk-toggleable__label-arrow:before {color: black;}#sk-container-id-1 div.sk-toggleable__content {max-height: 0;max-width: 0;overflow: hidden;text-align: left;background-color: #f0f8ff;}#sk-container-id-1 div.sk-toggleable__content pre {margin: 0.2em;color: black;border-radius: 0.25em;background-color: #f0f8ff;}#sk-container-id-1 input.sk-toggleable__control:checked~div.sk-toggleable__content {max-height: 200px;max-width: 100%;overflow: auto;}#sk-container-id-1 input.sk-toggleable__control:checked~label.sk-toggleable__label-arrow:before {content: \"▾\";}#sk-container-id-1 div.sk-estimator input.sk-toggleable__control:checked~label.sk-toggleable__label {background-color: #d4ebff;}#sk-container-id-1 div.sk-label input.sk-toggleable__control:checked~label.sk-toggleable__label {background-color: #d4ebff;}#sk-container-id-1 input.sk-hidden--visually {border: 0;clip: rect(1px 1px 1px 1px);clip: rect(1px, 1px, 1px, 1px);height: 1px;margin: -1px;overflow: hidden;padding: 0;position: absolute;width: 1px;}#sk-container-id-1 div.sk-estimator {font-family: monospace;background-color: #f0f8ff;border: 1px dotted black;border-radius: 0.25em;box-sizing: border-box;margin-bottom: 0.5em;}#sk-container-id-1 div.sk-estimator:hover {background-color: #d4ebff;}#sk-container-id-1 div.sk-parallel-item::after {content: \"\";width: 100%;border-bottom: 1px solid gray;flex-grow: 1;}#sk-container-id-1 div.sk-label:hover label.sk-toggleable__label {background-color: #d4ebff;}#sk-container-id-1 div.sk-serial::before {content: \"\";position: absolute;border-left: 1px solid gray;box-sizing: border-box;top: 0;bottom: 0;left: 50%;z-index: 0;}#sk-container-id-1 div.sk-serial {display: flex;flex-direction: column;align-items: center;background-color: white;padding-right: 0.2em;padding-left: 0.2em;position: relative;}#sk-container-id-1 div.sk-item {position: relative;z-index: 1;}#sk-container-id-1 div.sk-parallel {display: flex;align-items: stretch;justify-content: center;background-color: white;position: relative;}#sk-container-id-1 div.sk-item::before, #sk-container-id-1 div.sk-parallel-item::before {content: \"\";position: absolute;border-left: 1px solid gray;box-sizing: border-box;top: 0;bottom: 0;left: 50%;z-index: -1;}#sk-container-id-1 div.sk-parallel-item {display: flex;flex-direction: column;z-index: 1;position: relative;background-color: white;}#sk-container-id-1 div.sk-parallel-item:first-child::after {align-self: flex-end;width: 50%;}#sk-container-id-1 div.sk-parallel-item:last-child::after {align-self: flex-start;width: 50%;}#sk-container-id-1 div.sk-parallel-item:only-child::after {width: 0;}#sk-container-id-1 div.sk-dashed-wrapped {border: 1px dashed gray;margin: 0 0.4em 0.5em 0.4em;box-sizing: border-box;padding-bottom: 0.4em;background-color: white;}#sk-container-id-1 div.sk-label label {font-family: monospace;font-weight: bold;display: inline-block;line-height: 1.2em;}#sk-container-id-1 div.sk-label-container {text-align: center;}#sk-container-id-1 div.sk-container {/* jupyter's `normalize.less` sets `[hidden] { display: none; }` but bootstrap.min.css set `[hidden] { display: none !important; }` so we also need the `!important` here to be able to override the default hidden behavior on the sphinx rendered scikit-learn.org. See: https://github.com/scikit-learn/scikit-learn/issues/21755 */display: inline-block !important;position: relative;}#sk-container-id-1 div.sk-text-repr-fallback {display: none;}</style><div id=\"sk-container-id-1\" class=\"sk-top-container\"><div class=\"sk-text-repr-fallback\"><pre>RandomForestRegressor(random_state=100)</pre><b>In a Jupyter environment, please rerun this cell to show the HTML representation or trust the notebook. <br />On GitHub, the HTML representation is unable to render, please try loading this page with nbviewer.org.</b></div><div class=\"sk-container\" hidden><div class=\"sk-item\"><div class=\"sk-estimator sk-toggleable\"><input class=\"sk-toggleable__control sk-hidden--visually\" id=\"sk-estimator-id-1\" type=\"checkbox\" checked><label for=\"sk-estimator-id-1\" class=\"sk-toggleable__label sk-toggleable__label-arrow\">RandomForestRegressor</label><div class=\"sk-toggleable__content\"><pre>RandomForestRegressor(random_state=100)</pre></div></div></div></div></div>"
      ],
      "text/plain": [
       "RandomForestRegressor(random_state=100)"
      ]
     },
     "execution_count": 30,
     "metadata": {},
     "output_type": "execute_result"
    }
   ],
   "source": [
    "#ランダムフォレストで学習\n",
    "model = RandomForestRegressor(random_state=100)\n",
    "model.fit(X_train, y_train)"
   ]
  },
  {
   "cell_type": "code",
   "execution_count": 31,
   "id": "b04606a2",
   "metadata": {},
   "outputs": [],
   "source": [
    "#予測\n",
    "pred = model.predict(X_valid)"
   ]
  },
  {
   "cell_type": "code",
   "execution_count": 32,
   "id": "447b6bd1",
   "metadata": {},
   "outputs": [
    {
     "name": "stdout",
     "output_type": "stream",
     "text": [
      "5.458398530831929\n"
     ]
    }
   ],
   "source": [
    "#評価\n",
    "score = mean_absolute_percentage_error(y_valid, pred)\n",
    "print(score*100)"
   ]
  },
  {
   "cell_type": "markdown",
   "id": "2e5f20c1",
   "metadata": {},
   "source": [
    "# 提出ファイルの出力"
   ]
  },
  {
   "cell_type": "code",
   "execution_count": 33,
   "id": "4cbdba9f",
   "metadata": {},
   "outputs": [
    {
     "data": {
      "text/plain": [
       "array([4.2375675 , 3.88182012, 3.82445802, ..., 3.93209172, 3.80433785,\n",
       "       3.80638488])"
      ]
     },
     "execution_count": 33,
     "metadata": {},
     "output_type": "execute_result"
    }
   ],
   "source": [
    "predict = model.predict(test_set)\n",
    "predict"
   ]
  },
  {
   "cell_type": "code",
   "execution_count": 36,
   "id": "0029acd0",
   "metadata": {},
   "outputs": [
    {
     "data": {
      "text/html": [
       "<div>\n",
       "<style scoped>\n",
       "    .dataframe tbody tr th:only-of-type {\n",
       "        vertical-align: middle;\n",
       "    }\n",
       "\n",
       "    .dataframe tbody tr th {\n",
       "        vertical-align: top;\n",
       "    }\n",
       "\n",
       "    .dataframe thead th {\n",
       "        text-align: right;\n",
       "    }\n",
       "</style>\n",
       "<table border=\"1\" class=\"dataframe\">\n",
       "  <thead>\n",
       "    <tr style=\"text-align: right;\">\n",
       "      <th></th>\n",
       "      <th>0</th>\n",
       "      <th>1</th>\n",
       "    </tr>\n",
       "  </thead>\n",
       "  <tbody>\n",
       "    <tr>\n",
       "      <th>0</th>\n",
       "      <td>27532</td>\n",
       "      <td>14994.540583</td>\n",
       "    </tr>\n",
       "    <tr>\n",
       "      <th>1</th>\n",
       "      <td>27533</td>\n",
       "      <td>10004.210369</td>\n",
       "    </tr>\n",
       "    <tr>\n",
       "      <th>2</th>\n",
       "      <td>27534</td>\n",
       "      <td>8000.623545</td>\n",
       "    </tr>\n",
       "    <tr>\n",
       "      <th>3</th>\n",
       "      <td>27535</td>\n",
       "      <td>15062.223593</td>\n",
       "    </tr>\n",
       "    <tr>\n",
       "      <th>4</th>\n",
       "      <td>27536</td>\n",
       "      <td>8994.715270</td>\n",
       "    </tr>\n",
       "  </tbody>\n",
       "</table>\n",
       "</div>"
      ],
      "text/plain": [
       "       0             1\n",
       "0  27532  14994.540583\n",
       "1  27533  10004.210369\n",
       "2  27534   8000.623545\n",
       "3  27535  15062.223593\n",
       "4  27536   8994.715270"
      ]
     },
     "execution_count": 36,
     "metadata": {},
     "output_type": "execute_result"
    }
   ],
   "source": [
    "#submit_sample.csvを読み込み\n",
    "submit = pd.read_csv(\"../data/submit_sample.csv\", header=None)\n",
    "submit.head()"
   ]
  },
  {
   "cell_type": "code",
   "execution_count": 39,
   "id": "5e46f21a",
   "metadata": {},
   "outputs": [
    {
     "data": {
      "text/html": [
       "<div>\n",
       "<style scoped>\n",
       "    .dataframe tbody tr th:only-of-type {\n",
       "        vertical-align: middle;\n",
       "    }\n",
       "\n",
       "    .dataframe tbody tr th {\n",
       "        vertical-align: top;\n",
       "    }\n",
       "\n",
       "    .dataframe thead th {\n",
       "        text-align: right;\n",
       "    }\n",
       "</style>\n",
       "<table border=\"1\" class=\"dataframe\">\n",
       "  <thead>\n",
       "    <tr style=\"text-align: right;\">\n",
       "      <th></th>\n",
       "      <th>0</th>\n",
       "      <th>1</th>\n",
       "    </tr>\n",
       "  </thead>\n",
       "  <tbody>\n",
       "    <tr>\n",
       "      <th>0</th>\n",
       "      <td>27532</td>\n",
       "      <td>17280.945444</td>\n",
       "    </tr>\n",
       "    <tr>\n",
       "      <th>1</th>\n",
       "      <td>27533</td>\n",
       "      <td>7617.634284</td>\n",
       "    </tr>\n",
       "    <tr>\n",
       "      <th>2</th>\n",
       "      <td>27534</td>\n",
       "      <td>6675.103764</td>\n",
       "    </tr>\n",
       "    <tr>\n",
       "      <th>3</th>\n",
       "      <td>27535</td>\n",
       "      <td>22556.084259</td>\n",
       "    </tr>\n",
       "    <tr>\n",
       "      <th>4</th>\n",
       "      <td>27536</td>\n",
       "      <td>4835.347702</td>\n",
       "    </tr>\n",
       "  </tbody>\n",
       "</table>\n",
       "</div>"
      ],
      "text/plain": [
       "       0             1\n",
       "0  27532  17280.945444\n",
       "1  27533   7617.634284\n",
       "2  27534   6675.103764\n",
       "3  27535  22556.084259\n",
       "4  27536   4835.347702"
      ]
     },
     "execution_count": 39,
     "metadata": {},
     "output_type": "execute_result"
    }
   ],
   "source": [
    "submit[1] = np.power(10, predict)\n",
    "submit.head()"
   ]
  },
  {
   "cell_type": "code",
   "execution_count": 40,
   "id": "79b08a3e",
   "metadata": {},
   "outputs": [],
   "source": [
    "# submitファイルとして保存\n",
    "submit.to_csv(\"../submit-file/20230805_rfr_price_log_欠損値埋めとワンホット変換.csv\", index=False, header=None)"
   ]
  }
 ],
 "metadata": {
  "kernelspec": {
   "display_name": "Python 3 (ipykernel)",
   "language": "python",
   "name": "python3"
  },
  "language_info": {
   "codemirror_mode": {
    "name": "ipython",
    "version": 3
   },
   "file_extension": ".py",
   "mimetype": "text/x-python",
   "name": "python",
   "nbconvert_exporter": "python",
   "pygments_lexer": "ipython3",
   "version": "3.8.17"
  }
 },
 "nbformat": 4,
 "nbformat_minor": 5
}
