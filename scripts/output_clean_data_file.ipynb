{
 "cells": [
  {
   "cell_type": "code",
   "execution_count": 1,
   "id": "a4db1fef",
   "metadata": {},
   "outputs": [],
   "source": [
    "import pandas as pd\n",
    "from sklearn.preprocessing import StandardScaler"
   ]
  },
  {
   "cell_type": "markdown",
   "id": "945ef873",
   "metadata": {},
   "source": [
    "# 前処理"
   ]
  },
  {
   "cell_type": "code",
   "execution_count": 8,
   "id": "4e72a5a6",
   "metadata": {},
   "outputs": [],
   "source": [
    "def pre_process_data(file_path, is_test=False):\n",
    "    # データ読み込み\n",
    "    data = pd.read_csv(file_path)\n",
    "    \n",
    "    if not is_test:\n",
    "        #　odometerがマイナスの場合、対象レコードを削除\n",
    "        data = data[data['odometer'] >= 0]\n",
    "            \n",
    "        # odometerが100万以上の場合、対象レコードを削除\n",
    "        data = data[data['odometer'] < 1000000]\n",
    "\n",
    "    # manufacturerの加工（空白の除去、小文字半角に統一）\n",
    "    # TODO 省略されている値の変換もしてみる（文字コードの統一は不要なのか）\n",
    "    data['manufacturer'] = data['manufacturer'].str.replace(' ', '').str.lower().str.normalize('NFKC')\n",
    "        \n",
    "    # sizeのハイフンの統一\n",
    "    data['size'] = data['size'].str.replace('ー', '-').str.replace('−', '-')\n",
    "    \n",
    "    # fuel, typeの欠損値の処理\n",
    "    data[['fuel', 'type']] = data[['fuel', 'type']].fillna('other')\n",
    "    \n",
    "    # title_status, stateは特徴量として使用しないので削除\n",
    "    data = data.drop(columns = ['title_status', 'state'])\n",
    "    \n",
    "    #yearとodometerの値は標準化\n",
    "    # TODO yearは標準化したほうがいいのかな。。\n",
    "    scaler = StandardScaler()\n",
    "    data[['year', 'odometer']] = scaler.fit_transform(data[['year', 'odometer']])\n",
    "    \n",
    "    return data"
   ]
  },
  {
   "cell_type": "code",
   "execution_count": 9,
   "id": "b2a560cb",
   "metadata": {},
   "outputs": [],
   "source": [
    "# trainデータの前処理\n",
    "train_clean = pre_process_data('../data/train.csv')\n",
    "\n",
    "# 前処理したtrainデータを出力\n",
    "train_clean.to_csv('../data/preprocessed_data/train_clean.csv', index=False)"
   ]
  },
  {
   "cell_type": "code",
   "execution_count": 10,
   "id": "32a93778",
   "metadata": {},
   "outputs": [],
   "source": [
    "# testデータの前処理\n",
    "test_clean = pre_process_data('../data/test.csv', is_test=True)\n",
    "\n",
    "# 前処理したtestデータを出力\n",
    "test_clean.to_csv('../data/preprocessed_data/test_clean.csv', index=False)"
   ]
  }
 ],
 "metadata": {
  "kernelspec": {
   "display_name": "Python 3 (ipykernel)",
   "language": "python",
   "name": "python3"
  },
  "language_info": {
   "codemirror_mode": {
    "name": "ipython",
    "version": 3
   },
   "file_extension": ".py",
   "mimetype": "text/x-python",
   "name": "python",
   "nbconvert_exporter": "python",
   "pygments_lexer": "ipython3",
   "version": "3.8.17"
  }
 },
 "nbformat": 4,
 "nbformat_minor": 5
}
