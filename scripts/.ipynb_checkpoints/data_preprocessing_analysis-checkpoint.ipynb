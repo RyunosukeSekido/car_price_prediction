{
 "cells": [
  {
   "cell_type": "code",
   "execution_count": 1,
   "id": "dca29e7b",
   "metadata": {},
   "outputs": [],
   "source": [
    "import pandas as pd\n",
    "import numpy as np\n",
    "import matplotlib.pyplot as plt\n",
    "# from geopy.geocoders import Nominatim\n",
    "from sklearn.model_selection import train_test_split\n",
    "from sklearn.linear_model import LinearRegression\n",
    "from sklearn.tree import DecisionTreeRegressor\n",
    "from sklearn.ensemble import RandomForestRegressor\n",
    "from sklearn.metrics import mean_squared_error, r2_score\n",
    "from sklearn.metrics import mean_absolute_percentage_error"
   ]
  },
  {
   "cell_type": "code",
   "execution_count": 2,
   "id": "cc0b3f86",
   "metadata": {},
   "outputs": [],
   "source": [
    "train = pd.read_csv(\"../data/train.csv\")\n",
    "test = pd.read_csv(\"../data/test.csv\")        "
   ]
  },
  {
   "cell_type": "markdown",
   "id": "20abcf54",
   "metadata": {},
   "source": [
    "### 前処理"
   ]
  },
  {
   "cell_type": "code",
   "execution_count": 3,
   "id": "dbae8cc1",
   "metadata": {},
   "outputs": [],
   "source": [
    "train_copy = train.copy()\n",
    "test_copy = test.copy()"
   ]
  },
  {
   "cell_type": "code",
   "execution_count": 4,
   "id": "683f6c26",
   "metadata": {},
   "outputs": [],
   "source": [
    "# yearカラムの修正\n",
    "train_copy['year'] = train_copy['year'].apply(lambda x: x if x <= 2023 else x - 1000)\n",
    "test_copy['year'] = test_copy['year'].apply(lambda x: x if x <= 2023 else x - 1000)\n",
    "\n",
    "# odometerカラムの修正\n",
    "train_copy['odometer'] = train_copy['odometer'].apply(lambda x: -1 if x < 0 else x)\n",
    "test_copy['odometer'] = test_copy['odometer'].apply(lambda x: -1 if x < 0 else x)"
   ]
  },
  {
   "cell_type": "code",
   "execution_count": 5,
   "id": "af465763",
   "metadata": {
    "scrolled": true
   },
   "outputs": [
    {
     "data": {
      "text/plain": [
       "id                 0\n",
       "region             0\n",
       "year               0\n",
       "manufacturer       0\n",
       "condition          0\n",
       "cylinders          0\n",
       "fuel            1239\n",
       "odometer           0\n",
       "title_status     456\n",
       "transmission       0\n",
       "drive              0\n",
       "size               0\n",
       "type             456\n",
       "paint_color        0\n",
       "state           3304\n",
       "price              0\n",
       "dtype: int64"
      ]
     },
     "execution_count": 5,
     "metadata": {},
     "output_type": "execute_result"
    }
   ],
   "source": [
    "train_copy.isnull().sum()"
   ]
  },
  {
   "cell_type": "code",
   "execution_count": 6,
   "id": "eca63ae3",
   "metadata": {},
   "outputs": [],
   "source": [
    "# 欠損値を埋める\n",
    "def fillna_with_mode(df, columns):\n",
    "    for col in columns:\n",
    "        mode_value = df[col].mode().iloc[0]\n",
    "        df[col].fillna(mode_value, inplace=True)\n",
    "\n",
    "def fill_missing_state(df):\n",
    "    missing_state_rows = df[df['state'].isnull()]\n",
    "    for index, row in missing_state_rows.iterrows():\n",
    "        region = row['region']\n",
    "        state = df[df['region'] == region]['state'].iloc[0]\n",
    "        if pd.isnull(state):\n",
    "        # TODO regionに紐づくstateがない場合もあるので、その場合は緯度経度で取得する\n",
    "            state = df['state'].mode().iloc[0]\n",
    "        df.at[index, 'state'] = state\n",
    "        \n",
    " # def fill_missing_state_with_api(df):\n",
    "#     geolocator = Nominatim(user_agent=\"myGeocoder\")\n",
    "#     missing_state_rows = df[df['state'].isnull()]\n",
    "\n",
    "#     for index, row in missing_state_rows():\n",
    "#         region = row['region']\n",
    "#         location = geolocator.geocode(region)\n",
    "#         if location is not None:\n",
    "#             state = location.raw.get('address', {}).get('state')\n",
    "#             df.at[index, 'state'] = state\n",
    "                \n",
    "\n",
    "# 最頻値で埋める\n",
    "fillna_with_mode(train_copy, ['fuel', 'title_status', 'type'])\n",
    "fillna_with_mode(test_copy, ['fuel', 'title_status', 'type'])\n",
    "        \n",
    "# stateの欠損値をregionから導いて埋める\n",
    "fill_missing_state(train_copy)\n",
    "fill_missing_state(test_copy)"
   ]
  },
  {
   "cell_type": "code",
   "execution_count": 7,
   "id": "abde3f05",
   "metadata": {},
   "outputs": [
    {
     "data": {
      "text/plain": [
       "id              0\n",
       "region          0\n",
       "year            0\n",
       "manufacturer    0\n",
       "condition       0\n",
       "cylinders       0\n",
       "fuel            0\n",
       "odometer        0\n",
       "title_status    0\n",
       "transmission    0\n",
       "drive           0\n",
       "size            0\n",
       "type            0\n",
       "paint_color     0\n",
       "state           0\n",
       "price           0\n",
       "dtype: int64"
      ]
     },
     "execution_count": 7,
     "metadata": {},
     "output_type": "execute_result"
    }
   ],
   "source": [
    "train_copy.isnull().sum()"
   ]
  },
  {
   "cell_type": "code",
   "execution_count": 8,
   "id": "d2b8e215",
   "metadata": {},
   "outputs": [],
   "source": [
    "# カテゴリの統一\n",
    "# manufacturerカラムを整形\n",
    "def normalize_manufacturer_column(df):\n",
    "    # スペースの除去\n",
    "    df['manufacturer'] = df['manufacturer'].str.replace(' ', '')\n",
    "    # 大文字に統一\n",
    "    df['manufacturer'] = df['manufacturer'].str.upper()          \n",
    "    # 半角に統一\n",
    "    df['manufacturer'] = df['manufacturer'].str.normalize('NFKC')  \n",
    "    # 文字コードの統一\n",
    "    df['manufacturer'] = df['manufacturer'].str.encode('ascii', 'ignore').str.decode('utf-8') \n",
    "\n",
    "normalize_manufacturer_column(train_copy)\n",
    "normalize_manufacturer_column(test_copy)"
   ]
  },
  {
   "cell_type": "code",
   "execution_count": 9,
   "id": "74b5602b",
   "metadata": {
    "scrolled": true
   },
   "outputs": [
    {
     "data": {
      "text/plain": [
       "FORD             6943\n",
       "CHEVROLET        3807\n",
       "BMW              3044\n",
       "TOYOTA           1782\n",
       "HONDA            1742\n",
       "RAM              1639\n",
       "JEEP             1297\n",
       "NISSAN           1000\n",
       "VOLKSWAGEN        772\n",
       "BUICK             678\n",
       "KIA               668\n",
       "DODGE             433\n",
       "HYUNDAI           391\n",
       "GMC               370\n",
       "AUDI              329\n",
       "MAZDA             327\n",
       "SUBARU            288\n",
       "CHRYSLER          236\n",
       "ACURA             223\n",
       "MITSUBISHI        206\n",
       "CADILLAC          204\n",
       "MERCEDES-BENZ     199\n",
       "LEXUS             186\n",
       "MERCURY           155\n",
       "LINCOLN           152\n",
       "PONTIAC           145\n",
       "INFINITI           73\n",
       "VOLVO              60\n",
       "FIAT               43\n",
       "SATURN             41\n",
       "MINI               37\n",
       "ROVER              18\n",
       "JAGUAR             12\n",
       "PORSCHE            12\n",
       "ALFA-ROMEO          4\n",
       "NISAN               3\n",
       "LANDROVER           2\n",
       "ASTON-MARTIN        2\n",
       "SUBRU               2\n",
       "TOYOT               2\n",
       "STURN               1\n",
       "CURA                1\n",
       "VLKSWAGEN           1\n",
       "LEXU                1\n",
       "HRYSLER             1\n",
       "Name: manufacturer, dtype: int64"
      ]
     },
     "execution_count": 9,
     "metadata": {},
     "output_type": "execute_result"
    }
   ],
   "source": [
    "train_copy['manufacturer'].value_counts()"
   ]
  },
  {
   "cell_type": "code",
   "execution_count": 10,
   "id": "bc1c4687",
   "metadata": {},
   "outputs": [
    {
     "name": "stdout",
     "output_type": "stream",
     "text": [
      "値の種類の数: 45\n",
      "ACURA\n",
      "ALFA-ROMEO\n",
      "ASTON-MARTIN\n",
      "AUDI\n",
      "BMW\n",
      "BUICK\n",
      "CADILLAC\n",
      "CHEVROLET\n",
      "CHRYSLER\n",
      "CURA\n",
      "DODGE\n",
      "FIAT\n",
      "FORD\n",
      "GMC\n",
      "HONDA\n",
      "HRYSLER\n",
      "HYUNDAI\n",
      "INFINITI\n",
      "JAGUAR\n",
      "JEEP\n",
      "KIA\n",
      "LANDROVER\n",
      "LEXU\n",
      "LEXUS\n",
      "LINCOLN\n",
      "MAZDA\n",
      "MERCEDES-BENZ\n",
      "MERCURY\n",
      "MINI\n",
      "MITSUBISHI\n",
      "NISAN\n",
      "NISSAN\n",
      "PONTIAC\n",
      "PORSCHE\n",
      "RAM\n",
      "ROVER\n",
      "SATURN\n",
      "STURN\n",
      "SUBARU\n",
      "SUBRU\n",
      "TOYOT\n",
      "TOYOTA\n",
      "VLKSWAGEN\n",
      "VOLKSWAGEN\n",
      "VOLVO\n"
     ]
    }
   ],
   "source": [
    "#製造メーカのデータ確認\n",
    "manufacturer_values_count = train_copy[\"manufacturer\"].nunique()\n",
    "print(\"値の種類の数:\", manufacturer_values_count)\n",
    "\n",
    "manufacturer_grouped = train_copy.groupby(\"manufacturer\")\n",
    "for name, group in manufacturer_grouped:\n",
    "    print(name)"
   ]
  },
  {
   "cell_type": "code",
   "execution_count": 11,
   "id": "5f9cf7bc",
   "metadata": {
    "scrolled": true
   },
   "outputs": [
    {
     "data": {
      "text/plain": [
       "excellent    15219\n",
       "good          6009\n",
       "like new      3810\n",
       "fair          2404\n",
       "new             55\n",
       "salvage         35\n",
       "Name: condition, dtype: int64"
      ]
     },
     "execution_count": 11,
     "metadata": {},
     "output_type": "execute_result"
    }
   ],
   "source": [
    "# 新車のデータが入ってる？→中古車販売店でも新車はあるので問題ない\n",
    "train_copy['condition'].value_counts()"
   ]
  },
  {
   "cell_type": "code",
   "execution_count": 12,
   "id": "f23a21c3",
   "metadata": {
    "scrolled": true
   },
   "outputs": [
    {
     "data": {
      "text/html": [
       "<div>\n",
       "<style scoped>\n",
       "    .dataframe tbody tr th:only-of-type {\n",
       "        vertical-align: middle;\n",
       "    }\n",
       "\n",
       "    .dataframe tbody tr th {\n",
       "        vertical-align: top;\n",
       "    }\n",
       "\n",
       "    .dataframe thead th {\n",
       "        text-align: right;\n",
       "    }\n",
       "</style>\n",
       "<table border=\"1\" class=\"dataframe\">\n",
       "  <thead>\n",
       "    <tr style=\"text-align: right;\">\n",
       "      <th></th>\n",
       "      <th>id</th>\n",
       "      <th>region</th>\n",
       "      <th>year</th>\n",
       "      <th>manufacturer</th>\n",
       "      <th>condition</th>\n",
       "      <th>cylinders</th>\n",
       "      <th>fuel</th>\n",
       "      <th>odometer</th>\n",
       "      <th>title_status</th>\n",
       "      <th>transmission</th>\n",
       "      <th>drive</th>\n",
       "      <th>size</th>\n",
       "      <th>type</th>\n",
       "      <th>paint_color</th>\n",
       "      <th>state</th>\n",
       "      <th>price</th>\n",
       "    </tr>\n",
       "  </thead>\n",
       "  <tbody>\n",
       "    <tr>\n",
       "      <th>0</th>\n",
       "      <td>0</td>\n",
       "      <td>nashville</td>\n",
       "      <td>1949</td>\n",
       "      <td>BMW</td>\n",
       "      <td>excellent</td>\n",
       "      <td>6 cylinders</td>\n",
       "      <td>gas</td>\n",
       "      <td>115148</td>\n",
       "      <td>clean</td>\n",
       "      <td>manual</td>\n",
       "      <td>rwd</td>\n",
       "      <td>mid-size</td>\n",
       "      <td>convertible</td>\n",
       "      <td>orange</td>\n",
       "      <td>ca</td>\n",
       "      <td>27587</td>\n",
       "    </tr>\n",
       "    <tr>\n",
       "      <th>1</th>\n",
       "      <td>1</td>\n",
       "      <td>state college</td>\n",
       "      <td>2013</td>\n",
       "      <td>TOYOTA</td>\n",
       "      <td>fair</td>\n",
       "      <td>8 cylinders</td>\n",
       "      <td>gas</td>\n",
       "      <td>172038</td>\n",
       "      <td>clean</td>\n",
       "      <td>automatic</td>\n",
       "      <td>rwd</td>\n",
       "      <td>full-size</td>\n",
       "      <td>sedan</td>\n",
       "      <td>silver</td>\n",
       "      <td>pa</td>\n",
       "      <td>4724</td>\n",
       "    </tr>\n",
       "    <tr>\n",
       "      <th>2</th>\n",
       "      <td>2</td>\n",
       "      <td>wichita</td>\n",
       "      <td>1998</td>\n",
       "      <td>FORD</td>\n",
       "      <td>good</td>\n",
       "      <td>6 cylinders</td>\n",
       "      <td>gas</td>\n",
       "      <td>152492</td>\n",
       "      <td>clean</td>\n",
       "      <td>automatic</td>\n",
       "      <td>fwd</td>\n",
       "      <td>full-size</td>\n",
       "      <td>SUV</td>\n",
       "      <td>silver</td>\n",
       "      <td>ks</td>\n",
       "      <td>10931</td>\n",
       "    </tr>\n",
       "    <tr>\n",
       "      <th>3</th>\n",
       "      <td>3</td>\n",
       "      <td>albany</td>\n",
       "      <td>2014</td>\n",
       "      <td>FORD</td>\n",
       "      <td>excellent</td>\n",
       "      <td>4 cylinders</td>\n",
       "      <td>gas</td>\n",
       "      <td>104118</td>\n",
       "      <td>clean</td>\n",
       "      <td>manual</td>\n",
       "      <td>fwd</td>\n",
       "      <td>mid-size</td>\n",
       "      <td>SUV</td>\n",
       "      <td>blue</td>\n",
       "      <td>ny</td>\n",
       "      <td>16553</td>\n",
       "    </tr>\n",
       "    <tr>\n",
       "      <th>4</th>\n",
       "      <td>4</td>\n",
       "      <td>redding</td>\n",
       "      <td>2005</td>\n",
       "      <td>FORD</td>\n",
       "      <td>excellent</td>\n",
       "      <td>6 cylinders</td>\n",
       "      <td>gas</td>\n",
       "      <td>144554</td>\n",
       "      <td>clean</td>\n",
       "      <td>manual</td>\n",
       "      <td>fwd</td>\n",
       "      <td>mid-size</td>\n",
       "      <td>sedan</td>\n",
       "      <td>red</td>\n",
       "      <td>ca</td>\n",
       "      <td>5158</td>\n",
       "    </tr>\n",
       "  </tbody>\n",
       "</table>\n",
       "</div>"
      ],
      "text/plain": [
       "   id         region  year manufacturer  condition    cylinders fuel  \\\n",
       "0   0      nashville  1949          BMW  excellent  6 cylinders  gas   \n",
       "1   1  state college  2013       TOYOTA       fair  8 cylinders  gas   \n",
       "2   2        wichita  1998         FORD       good  6 cylinders  gas   \n",
       "3   3         albany  2014         FORD  excellent  4 cylinders  gas   \n",
       "4   4        redding  2005         FORD  excellent  6 cylinders  gas   \n",
       "\n",
       "   odometer title_status transmission drive       size         type  \\\n",
       "0    115148        clean       manual   rwd   mid-size  convertible   \n",
       "1    172038        clean    automatic   rwd  full-size        sedan   \n",
       "2    152492        clean    automatic   fwd  full-size          SUV   \n",
       "3    104118        clean       manual   fwd   mid-size          SUV   \n",
       "4    144554        clean       manual   fwd   mid-size        sedan   \n",
       "\n",
       "  paint_color state  price  \n",
       "0      orange    ca  27587  \n",
       "1      silver    pa   4724  \n",
       "2      silver    ks  10931  \n",
       "3        blue    ny  16553  \n",
       "4         red    ca   5158  "
      ]
     },
     "execution_count": 12,
     "metadata": {},
     "output_type": "execute_result"
    }
   ],
   "source": [
    "train_copy.head()"
   ]
  },
  {
   "cell_type": "code",
   "execution_count": 13,
   "id": "9a3f9502",
   "metadata": {
    "scrolled": true
   },
   "outputs": [],
   "source": [
    "# conditionカラム\n",
    "\n",
    "# ダミー変数化\n",
    "condition_ranking = {\n",
    "    'new':5,\n",
    "    'like new': 4,\n",
    "    'excellent': 3,\n",
    "    'good': 2,\n",
    "    'fair': 1,\n",
    "    'salvage': 0\n",
    "}\n",
    "\n",
    "train_copy['condition'] = train_copy['condition'].map(condition_ranking)\n",
    "test_copy['condition'] = test_copy['condition'].map(condition_ranking)\n",
    "\n",
    "# ワンホットに変換\n",
    "train_copy = pd.get_dummies(train_copy, columns=[\"manufacturer\", \"size\", \"state\", \"region\"])\n",
    "test_copy = pd.get_dummies(test_copy, columns=[\"manufacturer\", \"size\", \"state\", \"region\"])"
   ]
  },
  {
   "cell_type": "code",
   "execution_count": 14,
   "id": "2e0fa0f5",
   "metadata": {},
   "outputs": [
    {
     "name": "stdout",
     "output_type": "stream",
     "text": [
      "<class 'pandas.core.frame.DataFrame'>\n",
      "RangeIndex: 27537 entries, 0 to 27536\n",
      "Columns: 488 entries, id to region_zanesville / cambridge\n",
      "dtypes: int64(4), object(7), uint8(477)\n",
      "memory usage: 14.8+ MB\n"
     ]
    }
   ],
   "source": [
    "test_copy.info()"
   ]
  },
  {
   "cell_type": "markdown",
   "id": "fd241eb9",
   "metadata": {},
   "source": [
    "### データの分割"
   ]
  },
  {
   "cell_type": "code",
   "execution_count": 15,
   "id": "7fb266cb",
   "metadata": {},
   "outputs": [],
   "source": [
    "#priceは予測対象で学習に必要なため別途targetの変数に格納する\n",
    "target = train_copy[\"price\"]\n",
    "#学習させる特徴以外を削除\n",
    "train_set = train_copy.drop(columns=['id', 'year', 'cylinders', 'fuel', 'title_status', 'transmission', 'drive', 'type', 'paint_color', \"price\"], axis=1)\n",
    "test_set = test_copy.drop(columns=['id', 'year', 'cylinders', 'fuel', 'title_status', 'transmission', 'drive', 'type', 'paint_color'], axis=1)"
   ]
  },
  {
   "cell_type": "code",
   "execution_count": 16,
   "id": "06af5a09",
   "metadata": {
    "scrolled": true
   },
   "outputs": [
    {
     "data": {
      "text/html": [
       "<div>\n",
       "<style scoped>\n",
       "    .dataframe tbody tr th:only-of-type {\n",
       "        vertical-align: middle;\n",
       "    }\n",
       "\n",
       "    .dataframe tbody tr th {\n",
       "        vertical-align: top;\n",
       "    }\n",
       "\n",
       "    .dataframe thead th {\n",
       "        text-align: right;\n",
       "    }\n",
       "</style>\n",
       "<table border=\"1\" class=\"dataframe\">\n",
       "  <thead>\n",
       "    <tr style=\"text-align: right;\">\n",
       "      <th></th>\n",
       "      <th>condition</th>\n",
       "      <th>odometer</th>\n",
       "      <th>manufacturer_ACURA</th>\n",
       "      <th>manufacturer_ALFA-ROMEO</th>\n",
       "      <th>manufacturer_ASTON-MARTIN</th>\n",
       "      <th>manufacturer_AUDI</th>\n",
       "      <th>manufacturer_BMW</th>\n",
       "      <th>manufacturer_BUICK</th>\n",
       "      <th>manufacturer_CADILLAC</th>\n",
       "      <th>manufacturer_CHEVROLET</th>\n",
       "      <th>...</th>\n",
       "      <th>region_winchester</th>\n",
       "      <th>region_winston-salem</th>\n",
       "      <th>region_worcester / central MA</th>\n",
       "      <th>region_wyoming</th>\n",
       "      <th>region_yakima</th>\n",
       "      <th>region_york</th>\n",
       "      <th>region_youngstown</th>\n",
       "      <th>region_yuba-sutter</th>\n",
       "      <th>region_yuma</th>\n",
       "      <th>region_zanesville / cambridge</th>\n",
       "    </tr>\n",
       "  </thead>\n",
       "  <tbody>\n",
       "    <tr>\n",
       "      <th>0</th>\n",
       "      <td>3</td>\n",
       "      <td>115148</td>\n",
       "      <td>0</td>\n",
       "      <td>0</td>\n",
       "      <td>0</td>\n",
       "      <td>0</td>\n",
       "      <td>1</td>\n",
       "      <td>0</td>\n",
       "      <td>0</td>\n",
       "      <td>0</td>\n",
       "      <td>...</td>\n",
       "      <td>0</td>\n",
       "      <td>0</td>\n",
       "      <td>0</td>\n",
       "      <td>0</td>\n",
       "      <td>0</td>\n",
       "      <td>0</td>\n",
       "      <td>0</td>\n",
       "      <td>0</td>\n",
       "      <td>0</td>\n",
       "      <td>0</td>\n",
       "    </tr>\n",
       "    <tr>\n",
       "      <th>1</th>\n",
       "      <td>1</td>\n",
       "      <td>172038</td>\n",
       "      <td>0</td>\n",
       "      <td>0</td>\n",
       "      <td>0</td>\n",
       "      <td>0</td>\n",
       "      <td>0</td>\n",
       "      <td>0</td>\n",
       "      <td>0</td>\n",
       "      <td>0</td>\n",
       "      <td>...</td>\n",
       "      <td>0</td>\n",
       "      <td>0</td>\n",
       "      <td>0</td>\n",
       "      <td>0</td>\n",
       "      <td>0</td>\n",
       "      <td>0</td>\n",
       "      <td>0</td>\n",
       "      <td>0</td>\n",
       "      <td>0</td>\n",
       "      <td>0</td>\n",
       "    </tr>\n",
       "    <tr>\n",
       "      <th>2</th>\n",
       "      <td>2</td>\n",
       "      <td>152492</td>\n",
       "      <td>0</td>\n",
       "      <td>0</td>\n",
       "      <td>0</td>\n",
       "      <td>0</td>\n",
       "      <td>0</td>\n",
       "      <td>0</td>\n",
       "      <td>0</td>\n",
       "      <td>0</td>\n",
       "      <td>...</td>\n",
       "      <td>0</td>\n",
       "      <td>0</td>\n",
       "      <td>0</td>\n",
       "      <td>0</td>\n",
       "      <td>0</td>\n",
       "      <td>0</td>\n",
       "      <td>0</td>\n",
       "      <td>0</td>\n",
       "      <td>0</td>\n",
       "      <td>0</td>\n",
       "    </tr>\n",
       "    <tr>\n",
       "      <th>3</th>\n",
       "      <td>3</td>\n",
       "      <td>104118</td>\n",
       "      <td>0</td>\n",
       "      <td>0</td>\n",
       "      <td>0</td>\n",
       "      <td>0</td>\n",
       "      <td>0</td>\n",
       "      <td>0</td>\n",
       "      <td>0</td>\n",
       "      <td>0</td>\n",
       "      <td>...</td>\n",
       "      <td>0</td>\n",
       "      <td>0</td>\n",
       "      <td>0</td>\n",
       "      <td>0</td>\n",
       "      <td>0</td>\n",
       "      <td>0</td>\n",
       "      <td>0</td>\n",
       "      <td>0</td>\n",
       "      <td>0</td>\n",
       "      <td>0</td>\n",
       "    </tr>\n",
       "    <tr>\n",
       "      <th>4</th>\n",
       "      <td>3</td>\n",
       "      <td>144554</td>\n",
       "      <td>0</td>\n",
       "      <td>0</td>\n",
       "      <td>0</td>\n",
       "      <td>0</td>\n",
       "      <td>0</td>\n",
       "      <td>0</td>\n",
       "      <td>0</td>\n",
       "      <td>0</td>\n",
       "      <td>...</td>\n",
       "      <td>0</td>\n",
       "      <td>0</td>\n",
       "      <td>0</td>\n",
       "      <td>0</td>\n",
       "      <td>0</td>\n",
       "      <td>0</td>\n",
       "      <td>0</td>\n",
       "      <td>0</td>\n",
       "      <td>0</td>\n",
       "      <td>0</td>\n",
       "    </tr>\n",
       "  </tbody>\n",
       "</table>\n",
       "<p>5 rows × 479 columns</p>\n",
       "</div>"
      ],
      "text/plain": [
       "   condition  odometer  manufacturer_ACURA  manufacturer_ALFA-ROMEO  \\\n",
       "0          3    115148                   0                        0   \n",
       "1          1    172038                   0                        0   \n",
       "2          2    152492                   0                        0   \n",
       "3          3    104118                   0                        0   \n",
       "4          3    144554                   0                        0   \n",
       "\n",
       "   manufacturer_ASTON-MARTIN  manufacturer_AUDI  manufacturer_BMW  \\\n",
       "0                          0                  0                 1   \n",
       "1                          0                  0                 0   \n",
       "2                          0                  0                 0   \n",
       "3                          0                  0                 0   \n",
       "4                          0                  0                 0   \n",
       "\n",
       "   manufacturer_BUICK  manufacturer_CADILLAC  manufacturer_CHEVROLET  ...  \\\n",
       "0                   0                      0                       0  ...   \n",
       "1                   0                      0                       0  ...   \n",
       "2                   0                      0                       0  ...   \n",
       "3                   0                      0                       0  ...   \n",
       "4                   0                      0                       0  ...   \n",
       "\n",
       "   region_winchester  region_winston-salem  region_worcester / central MA  \\\n",
       "0                  0                     0                              0   \n",
       "1                  0                     0                              0   \n",
       "2                  0                     0                              0   \n",
       "3                  0                     0                              0   \n",
       "4                  0                     0                              0   \n",
       "\n",
       "   region_wyoming  region_yakima  region_york  region_youngstown  \\\n",
       "0               0              0            0                  0   \n",
       "1               0              0            0                  0   \n",
       "2               0              0            0                  0   \n",
       "3               0              0            0                  0   \n",
       "4               0              0            0                  0   \n",
       "\n",
       "   region_yuba-sutter  region_yuma  region_zanesville / cambridge  \n",
       "0                   0            0                              0  \n",
       "1                   0            0                              0  \n",
       "2                   0            0                              0  \n",
       "3                   0            0                              0  \n",
       "4                   0            0                              0  \n",
       "\n",
       "[5 rows x 479 columns]"
      ]
     },
     "execution_count": 16,
     "metadata": {},
     "output_type": "execute_result"
    }
   ],
   "source": [
    "train_set.head()"
   ]
  },
  {
   "cell_type": "code",
   "execution_count": 17,
   "id": "de9e4f7c",
   "metadata": {},
   "outputs": [
    {
     "name": "stdout",
     "output_type": "stream",
     "text": [
      "(20649, 479) (6883, 479) (20649,) (6883,)\n"
     ]
    }
   ],
   "source": [
    "X_train, X_valid, y_train, y_valid = train_test_split(train_set, target, random_state = 82)\n",
    "print(X_train.shape, X_valid.shape, y_train.shape, y_valid.shape)"
   ]
  },
  {
   "cell_type": "markdown",
   "id": "5c0897c0",
   "metadata": {},
   "source": [
    "### 学習と検証"
   ]
  },
  {
   "cell_type": "code",
   "execution_count": 18,
   "id": "2a5f3d38",
   "metadata": {},
   "outputs": [],
   "source": [
    "# 予測モデルの試行\n",
    "models = [\n",
    "    LinearRegression(),\n",
    "    DecisionTreeRegressor(random_state=100),\n",
    "    RandomForestRegressor(random_state=100)\n",
    "]\n",
    "\n",
    "# 処理重いので確認したい時のみ実行\n",
    "# for model in models:\n",
    "#     model.fit(X_train, y_train)\n",
    "#     y_pred = model.predict(X_valid)\n",
    "#     mse = mean_squared_error(y_valid, y_pred)\n",
    "#     r2 = r2_score(y_valid, y_pred)\n",
    "#     print(f\"{model.__class__.__name__}:\")\n",
    "#     print(f\"   Mean Squared Error: {mse}\")\n",
    "#     print(f\"   R^2 Score: {r2}\")\n",
    "#     print()"
   ]
  },
  {
   "cell_type": "code",
   "execution_count": 19,
   "id": "e1e3e140",
   "metadata": {},
   "outputs": [
    {
     "data": {
      "text/html": [
       "<style>#sk-container-id-1 {color: black;background-color: white;}#sk-container-id-1 pre{padding: 0;}#sk-container-id-1 div.sk-toggleable {background-color: white;}#sk-container-id-1 label.sk-toggleable__label {cursor: pointer;display: block;width: 100%;margin-bottom: 0;padding: 0.3em;box-sizing: border-box;text-align: center;}#sk-container-id-1 label.sk-toggleable__label-arrow:before {content: \"▸\";float: left;margin-right: 0.25em;color: #696969;}#sk-container-id-1 label.sk-toggleable__label-arrow:hover:before {color: black;}#sk-container-id-1 div.sk-estimator:hover label.sk-toggleable__label-arrow:before {color: black;}#sk-container-id-1 div.sk-toggleable__content {max-height: 0;max-width: 0;overflow: hidden;text-align: left;background-color: #f0f8ff;}#sk-container-id-1 div.sk-toggleable__content pre {margin: 0.2em;color: black;border-radius: 0.25em;background-color: #f0f8ff;}#sk-container-id-1 input.sk-toggleable__control:checked~div.sk-toggleable__content {max-height: 200px;max-width: 100%;overflow: auto;}#sk-container-id-1 input.sk-toggleable__control:checked~label.sk-toggleable__label-arrow:before {content: \"▾\";}#sk-container-id-1 div.sk-estimator input.sk-toggleable__control:checked~label.sk-toggleable__label {background-color: #d4ebff;}#sk-container-id-1 div.sk-label input.sk-toggleable__control:checked~label.sk-toggleable__label {background-color: #d4ebff;}#sk-container-id-1 input.sk-hidden--visually {border: 0;clip: rect(1px 1px 1px 1px);clip: rect(1px, 1px, 1px, 1px);height: 1px;margin: -1px;overflow: hidden;padding: 0;position: absolute;width: 1px;}#sk-container-id-1 div.sk-estimator {font-family: monospace;background-color: #f0f8ff;border: 1px dotted black;border-radius: 0.25em;box-sizing: border-box;margin-bottom: 0.5em;}#sk-container-id-1 div.sk-estimator:hover {background-color: #d4ebff;}#sk-container-id-1 div.sk-parallel-item::after {content: \"\";width: 100%;border-bottom: 1px solid gray;flex-grow: 1;}#sk-container-id-1 div.sk-label:hover label.sk-toggleable__label {background-color: #d4ebff;}#sk-container-id-1 div.sk-serial::before {content: \"\";position: absolute;border-left: 1px solid gray;box-sizing: border-box;top: 0;bottom: 0;left: 50%;z-index: 0;}#sk-container-id-1 div.sk-serial {display: flex;flex-direction: column;align-items: center;background-color: white;padding-right: 0.2em;padding-left: 0.2em;position: relative;}#sk-container-id-1 div.sk-item {position: relative;z-index: 1;}#sk-container-id-1 div.sk-parallel {display: flex;align-items: stretch;justify-content: center;background-color: white;position: relative;}#sk-container-id-1 div.sk-item::before, #sk-container-id-1 div.sk-parallel-item::before {content: \"\";position: absolute;border-left: 1px solid gray;box-sizing: border-box;top: 0;bottom: 0;left: 50%;z-index: -1;}#sk-container-id-1 div.sk-parallel-item {display: flex;flex-direction: column;z-index: 1;position: relative;background-color: white;}#sk-container-id-1 div.sk-parallel-item:first-child::after {align-self: flex-end;width: 50%;}#sk-container-id-1 div.sk-parallel-item:last-child::after {align-self: flex-start;width: 50%;}#sk-container-id-1 div.sk-parallel-item:only-child::after {width: 0;}#sk-container-id-1 div.sk-dashed-wrapped {border: 1px dashed gray;margin: 0 0.4em 0.5em 0.4em;box-sizing: border-box;padding-bottom: 0.4em;background-color: white;}#sk-container-id-1 div.sk-label label {font-family: monospace;font-weight: bold;display: inline-block;line-height: 1.2em;}#sk-container-id-1 div.sk-label-container {text-align: center;}#sk-container-id-1 div.sk-container {/* jupyter's `normalize.less` sets `[hidden] { display: none; }` but bootstrap.min.css set `[hidden] { display: none !important; }` so we also need the `!important` here to be able to override the default hidden behavior on the sphinx rendered scikit-learn.org. See: https://github.com/scikit-learn/scikit-learn/issues/21755 */display: inline-block !important;position: relative;}#sk-container-id-1 div.sk-text-repr-fallback {display: none;}</style><div id=\"sk-container-id-1\" class=\"sk-top-container\"><div class=\"sk-text-repr-fallback\"><pre>RandomForestRegressor(random_state=100)</pre><b>In a Jupyter environment, please rerun this cell to show the HTML representation or trust the notebook. <br />On GitHub, the HTML representation is unable to render, please try loading this page with nbviewer.org.</b></div><div class=\"sk-container\" hidden><div class=\"sk-item\"><div class=\"sk-estimator sk-toggleable\"><input class=\"sk-toggleable__control sk-hidden--visually\" id=\"sk-estimator-id-1\" type=\"checkbox\" checked><label for=\"sk-estimator-id-1\" class=\"sk-toggleable__label sk-toggleable__label-arrow\">RandomForestRegressor</label><div class=\"sk-toggleable__content\"><pre>RandomForestRegressor(random_state=100)</pre></div></div></div></div></div>"
      ],
      "text/plain": [
       "RandomForestRegressor(random_state=100)"
      ]
     },
     "execution_count": 19,
     "metadata": {},
     "output_type": "execute_result"
    }
   ],
   "source": [
    "#ランダムフォレストで学習\n",
    "model = RandomForestRegressor(random_state=100)\n",
    "model.fit(X_train, y_train)"
   ]
  },
  {
   "cell_type": "code",
   "execution_count": 20,
   "id": "654a351e",
   "metadata": {},
   "outputs": [],
   "source": [
    "#予測\n",
    "pred = model.predict(X_valid)"
   ]
  },
  {
   "cell_type": "code",
   "execution_count": 21,
   "id": "ae46bec1",
   "metadata": {},
   "outputs": [
    {
     "name": "stdout",
     "output_type": "stream",
     "text": [
      "72.76472079372603\n"
     ]
    }
   ],
   "source": [
    "#評価\n",
    "score = mean_absolute_percentage_error(y_valid, pred)\n",
    "print(score*100)"
   ]
  },
  {
   "cell_type": "code",
   "execution_count": 22,
   "id": "6dfda8b9",
   "metadata": {
    "scrolled": true
   },
   "outputs": [
    {
     "data": {
      "image/png": "[encoded data removed]",
      "text/plain": [
       "<Figure size 640x480 with 1 Axes>"
      ]
     },
     "metadata": {},
     "output_type": "display_data"
    }
   ],
   "source": [
    "#横軸が予測結果、縦軸が正解価格\n",
    "plt.scatter(pred, y_valid)\n",
    "plt.xlabel(\"predict\")\n",
    "plt.ylabel(\"price\")\n",
    "plt.show()"
   ]
  },
  {
   "cell_type": "markdown",
   "id": "be73afde",
   "metadata": {},
   "source": [
    "# 提出ファイルの出力"
   ]
  },
  {
   "cell_type": "code",
   "execution_count": 23,
   "id": "9d5683bf",
   "metadata": {},
   "outputs": [],
   "source": [
    "predict = model.predict(test_set)"
   ]
  },
  {
   "cell_type": "code",
   "execution_count": 24,
   "id": "50acd8e2",
   "metadata": {
    "scrolled": true
   },
   "outputs": [
    {
     "data": {
      "text/html": [
       "<div>\n",
       "<style scoped>\n",
       "    .dataframe tbody tr th:only-of-type {\n",
       "        vertical-align: middle;\n",
       "    }\n",
       "\n",
       "    .dataframe tbody tr th {\n",
       "        vertical-align: top;\n",
       "    }\n",
       "\n",
       "    .dataframe thead th {\n",
       "        text-align: right;\n",
       "    }\n",
       "</style>\n",
       "<table border=\"1\" class=\"dataframe\">\n",
       "  <thead>\n",
       "    <tr style=\"text-align: right;\">\n",
       "      <th></th>\n",
       "      <th>0</th>\n",
       "      <th>1</th>\n",
       "    </tr>\n",
       "  </thead>\n",
       "  <tbody>\n",
       "    <tr>\n",
       "      <th>0</th>\n",
       "      <td>27532</td>\n",
       "      <td>14994.540583</td>\n",
       "    </tr>\n",
       "    <tr>\n",
       "      <th>1</th>\n",
       "      <td>27533</td>\n",
       "      <td>10004.210369</td>\n",
       "    </tr>\n",
       "    <tr>\n",
       "      <th>2</th>\n",
       "      <td>27534</td>\n",
       "      <td>8000.623545</td>\n",
       "    </tr>\n",
       "    <tr>\n",
       "      <th>3</th>\n",
       "      <td>27535</td>\n",
       "      <td>15062.223593</td>\n",
       "    </tr>\n",
       "    <tr>\n",
       "      <th>4</th>\n",
       "      <td>27536</td>\n",
       "      <td>8994.715270</td>\n",
       "    </tr>\n",
       "  </tbody>\n",
       "</table>\n",
       "</div>"
      ],
      "text/plain": [
       "       0             1\n",
       "0  27532  14994.540583\n",
       "1  27533  10004.210369\n",
       "2  27534   8000.623545\n",
       "3  27535  15062.223593\n",
       "4  27536   8994.715270"
      ]
     },
     "execution_count": 24,
     "metadata": {},
     "output_type": "execute_result"
    }
   ],
   "source": [
    "#submit_sample.csvを読み込み\n",
    "submit = pd.read_csv(\"../data/submit_sample.csv\", header=None)\n",
    "submit.head()"
   ]
  },
  {
   "cell_type": "code",
   "execution_count": 25,
   "id": "7582ce15",
   "metadata": {},
   "outputs": [
    {
     "data": {
      "text/html": [
       "<div>\n",
       "<style scoped>\n",
       "    .dataframe tbody tr th:only-of-type {\n",
       "        vertical-align: middle;\n",
       "    }\n",
       "\n",
       "    .dataframe tbody tr th {\n",
       "        vertical-align: top;\n",
       "    }\n",
       "\n",
       "    .dataframe thead th {\n",
       "        text-align: right;\n",
       "    }\n",
       "</style>\n",
       "<table border=\"1\" class=\"dataframe\">\n",
       "  <thead>\n",
       "    <tr style=\"text-align: right;\">\n",
       "      <th></th>\n",
       "      <th>0</th>\n",
       "      <th>1</th>\n",
       "    </tr>\n",
       "  </thead>\n",
       "  <tbody>\n",
       "    <tr>\n",
       "      <th>0</th>\n",
       "      <td>27532</td>\n",
       "      <td>16390.27</td>\n",
       "    </tr>\n",
       "    <tr>\n",
       "      <th>1</th>\n",
       "      <td>27533</td>\n",
       "      <td>10146.00</td>\n",
       "    </tr>\n",
       "    <tr>\n",
       "      <th>2</th>\n",
       "      <td>27534</td>\n",
       "      <td>8675.47</td>\n",
       "    </tr>\n",
       "    <tr>\n",
       "      <th>3</th>\n",
       "      <td>27535</td>\n",
       "      <td>12873.48</td>\n",
       "    </tr>\n",
       "    <tr>\n",
       "      <th>4</th>\n",
       "      <td>27536</td>\n",
       "      <td>5900.03</td>\n",
       "    </tr>\n",
       "  </tbody>\n",
       "</table>\n",
       "</div>"
      ],
      "text/plain": [
       "       0         1\n",
       "0  27532  16390.27\n",
       "1  27533  10146.00\n",
       "2  27534   8675.47\n",
       "3  27535  12873.48\n",
       "4  27536   5900.03"
      ]
     },
     "execution_count": 25,
     "metadata": {},
     "output_type": "execute_result"
    }
   ],
   "source": [
    "submit[1] = predict\n",
    "submit.head()"
   ]
  },
  {
   "cell_type": "code",
   "execution_count": 26,
   "id": "8bda672b",
   "metadata": {},
   "outputs": [],
   "source": [
    "# submitファイルとして保存\n",
    "submit.to_csv(\"../submit-file/20230730_second_submission.csv\", index=False, header=None)"
   ]
  }
 ],
 "metadata": {
  "kernelspec": {
   "display_name": "Python 3 (ipykernel)",
   "language": "python",
   "name": "python3"
  },
  "language_info": {
   "codemirror_mode": {
    "name": "ipython",
    "version": 3
   },
   "file_extension": ".py",
   "mimetype": "text/x-python",
   "name": "python",
   "nbconvert_exporter": "python",
   "pygments_lexer": "ipython3",
   "version": "3.11.4"
  }
 },
 "nbformat": 4,
 "nbformat_minor": 5
}
