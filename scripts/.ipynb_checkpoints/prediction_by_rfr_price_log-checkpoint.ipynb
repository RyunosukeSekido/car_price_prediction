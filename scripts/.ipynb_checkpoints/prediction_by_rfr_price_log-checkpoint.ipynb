{
 "cells": [
  {
   "cell_type": "code",
   "execution_count": 1,
   "id": "b3aa2253",
   "metadata": {},
   "outputs": [],
   "source": [
    "import pandas as pd\n",
    "import math\n",
    "from sklearn.model_selection import train_test_split\n",
    "from sklearn.ensemble import RandomForestRegressor\n",
    "from sklearn.metrics import mean_squared_error, r2_score\n",
    "from sklearn.metrics import mean_absolute_percentage_error"
   ]
  },
  {
   "cell_type": "code",
   "execution_count": null,
   "id": "fcb1b632",
   "metadata": {},
   "outputs": [],
   "source": [
    "import utils.data_preprocessing as dp"
   ]
  },
  {
   "cell_type": "markdown",
   "id": "133e18a5",
   "metadata": {},
   "source": [
    "# データの読み込み"
   ]
  },
  {
   "cell_type": "code",
   "execution_count": null,
   "id": "9b4eac2f",
   "metadata": {},
   "outputs": [],
   "source": [
    "train = pd.read_csv(\"../data/train.csv\")\n",
    "test = pd.read_csv(\"../data/test.csv\")"
   ]
  },
  {
   "cell_type": "code",
   "execution_count": null,
   "id": "e02e3548",
   "metadata": {
    "scrolled": true
   },
   "outputs": [],
   "source": [
    "train"
   ]
  },
  {
   "cell_type": "code",
   "execution_count": null,
   "id": "1db6aa8c",
   "metadata": {
    "scrolled": true
   },
   "outputs": [],
   "source": [
    "train[\"manufacturer\"].value_counts()"
   ]
  },
  {
   "cell_type": "markdown",
   "id": "d33bf7fb",
   "metadata": {},
   "source": [
    "# 定数"
   ]
  },
  {
   "cell_type": "code",
   "execution_count": null,
   "id": "a6146905",
   "metadata": {},
   "outputs": [],
   "source": [
    "area_mapping = {\n",
    "    # trainデータ\n",
    "    'SF bay area': 'California',\n",
    "    'ashtabula': 'Ohio',\n",
    "    'brainerd': 'Minnesota',\n",
    "    'brownsville': 'Texas',\n",
    "    'columbia': 'South Carolina',\n",
    "    'columbia / jeff city': 'Missouri',\n",
    "    'daytona beach': 'Florida',\n",
    "    'dubuque': 'Iowa',\n",
    "    'el paso': 'Texas',\n",
    "    'flagstaff / sedona': 'Arizona',\n",
    "    'florence': 'South Carolina',\n",
    "    'florida keys': 'Florida',\n",
    "    'galveston': 'Texas',\n",
    "    'grand forks': 'North Dakota',\n",
    "    'grand rapids': 'Michigan',\n",
    "    'great falls': 'Montana',\n",
    "    'heartland florida': 'Florida',\n",
    "    'imperial county': 'California',\n",
    "    'joplin': 'Missouri',\n",
    "    'kalispell': 'Montana',\n",
    "    'lakeland': 'Florida',\n",
    "    'las vegas': 'Nevada',\n",
    "    'lawton': 'Oklahoma',\n",
    "    'long island': 'New York',\n",
    "    'manhattan': 'New York',\n",
    "    'merced': 'California',\n",
    "    'minneapolis / st paul': 'Minnesota',\n",
    "    'morgantown': 'West Virginia',\n",
    "    'moses lake': 'Washington',\n",
    "    'nashville': 'Tennessee',\n",
    "    'northeast SD': 'South Dakota',\n",
    "    'northwest KS': 'Kansas',\n",
    "    'panama city': 'Florida',\n",
    "    'pittsburgh': 'Pennsylvania',\n",
    "    'poconos': 'Pennsylvania',\n",
    "    'pullman / moscow': 'Washington',\n",
    "    'raleigh / durham / CH': 'North Carolina',\n",
    "    'rockford': 'Illinois',\n",
    "    'salem': 'Oregon',\n",
    "    'san antonio': 'Texas',\n",
    "    'san diego': 'California',\n",
    "    'savannah / hinesville': 'Georgia',\n",
    "    'southern WV': 'West Virginia',\n",
    "    'southwest VA': 'Virginia',\n",
    "    'spokane / coeur d\\'alene': 'Washington',\n",
    "    'tallahassee': 'Florida',\n",
    "    'tucson': 'Arizona',\n",
    "    'utica-rome-oneida': 'New York',\n",
    "    'valdosta': 'Georgia',\n",
    "    'vermont': 'Vermont',\n",
    "    'waterloo / cedar falls': 'Iowa',\n",
    "    'watertown': 'New York',\n",
    "    'western KY': 'Kentucky',\n",
    "    'yuba-sutter': 'California',\n",
    "    'yuma': 'Arizona',\n",
    "    #  testデータ\n",
    "    'birmingham': 'Alabama',\n",
    "    'central michigan': 'Michigan',\n",
    "    'charleston': 'South Carolina',\n",
    "    'cleveland': 'Ohio',\n",
    "    'east oregon': 'Oregon',\n",
    "    'eastern NC': 'North Carolina',\n",
    "    'glens falls': 'New York',\n",
    "    'hanford-corcoran': 'California',\n",
    "    'huntsville / decatur': 'Alabama',\n",
    "    'jersey shore': 'New Jersey',\n",
    "    'lafayette': 'Louisiana',\n",
    "    'muskegon': 'Michigan',\n",
    "    'ocala': 'Florida',\n",
    "    'prescott': 'Arizona',\n",
    "    'rochester': 'New York',\n",
    "    'siskiyou county': 'California',\n",
    "    'texarkana': 'Texas',\n",
    "    'waco': 'Texas',\n",
    "    'western slope': 'Colorado',\n",
    "    'wyoming': 'Wyoming'\n",
    "} "
   ]
  },
  {
   "cell_type": "markdown",
   "id": "572f7761",
   "metadata": {},
   "source": [
    "# 前処理"
   ]
  },
  {
   "cell_type": "code",
   "execution_count": null,
   "id": "2775e8fe",
   "metadata": {},
   "outputs": [],
   "source": [
    "# manufacturer\n",
    "train = dp.preprocess_manufacturer(train)"
   ]
  },
  {
   "cell_type": "code",
   "execution_count": null,
   "id": "7d459c04",
   "metadata": {},
   "outputs": [],
   "source": [
    "# year\n",
    "train = dp.fix_year_column(train)"
   ]
  },
  {
   "cell_type": "code",
   "execution_count": null,
   "id": "81677c21",
   "metadata": {},
   "outputs": [],
   "source": [
    "#odometer（負を正に転換）\n",
    "train[\"odometer\"] = (train[\"odometer\"]**2)**0.5"
   ]
  },
  {
   "cell_type": "code",
   "execution_count": null,
   "id": "9c893b1e",
   "metadata": {},
   "outputs": [],
   "source": [
    "# size\n",
    "train = dp.normalize_size_column(train)"
   ]
  },
  {
   "cell_type": "code",
   "execution_count": null,
   "id": "72aac261",
   "metadata": {},
   "outputs": [],
   "source": [
    "# state\n",
    "dp.fill_missing_state(train, area_mapping)"
   ]
  },
  {
   "cell_type": "code",
   "execution_count": null,
   "id": "d16ab623",
   "metadata": {},
   "outputs": [],
   "source": [
    "# fuel, title_status, type（現状、最頻値で埋めている）\n",
    "dp.fillna_with_mode(train, ['fuel', 'title_status', 'type'])"
   ]
  },
  {
   "cell_type": "code",
   "execution_count": null,
   "id": "9918b43f",
   "metadata": {},
   "outputs": [],
   "source": [
    "train.isnull().sum()"
   ]
  },
  {
   "cell_type": "code",
   "execution_count": null,
   "id": "6ae0f311",
   "metadata": {},
   "outputs": [],
   "source": [
    "train[\"odometer\"].describe()"
   ]
  },
  {
   "cell_type": "code",
   "execution_count": null,
   "id": "05123120",
   "metadata": {},
   "outputs": [],
   "source": [
    "len(train[\"state\"].value_counts(dropna=False))"
   ]
  },
  {
   "cell_type": "code",
   "execution_count": null,
   "id": "3f20bf2f",
   "metadata": {},
   "outputs": [],
   "source": [
    "len(train[\"region\"].value_counts(dropna=False))"
   ]
  },
  {
   "cell_type": "markdown",
   "id": "2906473a",
   "metadata": {},
   "source": [
    "# 特徴量の追加"
   ]
  },
  {
   "cell_type": "code",
   "execution_count": null,
   "id": "6ddad359",
   "metadata": {},
   "outputs": [],
   "source": [
    "# odometerを5000で丸める\n",
    "# train[\"odometer_bin5000\"]=train[\"odometer\"]//5000\n",
    "# train.head()"
   ]
  },
  {
   "cell_type": "code",
   "execution_count": null,
   "id": "045cde66",
   "metadata": {},
   "outputs": [],
   "source": [
    "# 人気度をカウント数で算出する（現状これだけだと精度が落ちる）\n",
    "# df_mts=df_train[[\"id\",\"manufacturer\",\"type\",\"size\"]].groupby([\"manufacturer\",\"type\",\"size\"]).count().reset_index()\n",
    "# df_mts.columns=[\"manufacturer\",\"type\",\"size\",\"mts_counts\"]\n",
    "# df_mts\n",
    "# train=pd.merge(train,df_mts,on=[\"manufacturer\",\"type\",\"size\"],how=\"left\")"
   ]
  },
  {
   "cell_type": "code",
   "execution_count": null,
   "id": "3f62f719",
   "metadata": {
    "scrolled": true
   },
   "outputs": [],
   "source": [
    "# priceの修正\n",
    "train[\"price\"]=train[\"price\"].apply(lambda x:math.log10(x))\n",
    "train"
   ]
  },
  {
   "cell_type": "code",
   "execution_count": null,
   "id": "4016f9ca",
   "metadata": {},
   "outputs": [],
   "source": [
    "# ワンホットに変換\n",
    "train = pd.get_dummies(train, columns=[\"condition\",\"manufacturer\", \"type\", \"size\", \"state\", \"region\", \"fuel\"])\n",
    "test = pd.get_dummies(test, columns=[\"condition\", \"manufacturer\", \"type\", \"size\", \"state\", \"region\", \"fuel\"])"
   ]
  },
  {
   "cell_type": "markdown",
   "id": "d1828059",
   "metadata": {},
   "source": [
    "# データの分割"
   ]
  },
  {
   "cell_type": "code",
   "execution_count": null,
   "id": "c0277719",
   "metadata": {},
   "outputs": [],
   "source": [
    "from sklearn.model_selection import train_test_split"
   ]
  },
  {
   "cell_type": "code",
   "execution_count": null,
   "id": "95bd3c05",
   "metadata": {},
   "outputs": [],
   "source": [
    "# train_train, train_test = train_test_split(train, test_size=0.2,random_state=0)"
   ]
  },
  {
   "cell_type": "code",
   "execution_count": null,
   "id": "9d6c8685",
   "metadata": {},
   "outputs": [],
   "source": [
    "#priceは予測対象で学習に必要なため別途targetの変数に格納する\n",
    "target = train[\"price\"]\n",
    "#学習させる特徴以外を削除\n",
    "train_set = train.drop(columns=['id', 'cylinders', 'title_status', 'transmission', 'drive', 'paint_color', \"price\"], axis=1)\n",
    "test_set = test.drop(columns=['id', 'cylinders',  'title_status', 'transmission', 'drive',  'paint_color'], axis=1)"
   ]
  },
  {
   "cell_type": "code",
   "execution_count": null,
   "id": "75863076",
   "metadata": {},
   "outputs": [],
   "source": [
    "X_train, X_valid, y_train, y_valid = train_test_split(train_set, target, random_state = 82)\n",
    "print(X_train.shape, X_valid.shape, y_train.shape, y_valid.shape)"
   ]
  },
  {
   "cell_type": "code",
   "execution_count": null,
   "id": "83625542",
   "metadata": {},
   "outputs": [],
   "source": [
    "len(train_train)"
   ]
  },
  {
   "cell_type": "code",
   "execution_count": null,
   "id": "f57284b4",
   "metadata": {},
   "outputs": [],
   "source": [
    "len(train_test)"
   ]
  },
  {
   "cell_type": "code",
   "execution_count": null,
   "id": "93a0626d",
   "metadata": {},
   "outputs": [],
   "source": [
    "train_test"
   ]
  },
  {
   "cell_type": "markdown",
   "id": "acfe0572",
   "metadata": {},
   "source": [
    "# 学習と検証"
   ]
  },
  {
   "cell_type": "code",
   "execution_count": null,
   "id": "51ba750f",
   "metadata": {
    "scrolled": true
   },
   "outputs": [],
   "source": [
    "# import pycaret"
   ]
  },
  {
   "cell_type": "code",
   "execution_count": null,
   "id": "38336345",
   "metadata": {},
   "outputs": [],
   "source": [
    "#ランダムフォレストで学習\n",
    "model = RandomForestRegressor(random_state=100)\n",
    "model.fit(X_train, y_train)"
   ]
  },
  {
   "cell_type": "code",
   "execution_count": null,
   "id": "b04606a2",
   "metadata": {},
   "outputs": [],
   "source": [
    "#予測\n",
    "pred = model.predict(X_valid)"
   ]
  },
  {
   "cell_type": "code",
   "execution_count": null,
   "id": "447b6bd1",
   "metadata": {},
   "outputs": [],
   "source": [
    "#評価\n",
    "score = mean_absolute_percentage_error(y_valid, pred)\n",
    "print(score*100)"
   ]
  },
  {
   "cell_type": "markdown",
   "id": "2e5f20c1",
   "metadata": {},
   "source": [
    "# 提出ファイルの出力"
   ]
  },
  {
   "cell_type": "code",
   "execution_count": null,
   "id": "4cbdba9f",
   "metadata": {},
   "outputs": [],
   "source": [
    "predict = model.predict(test_set)\n",
    "predict"
   ]
  }
 ],
 "metadata": {
  "kernelspec": {
   "display_name": "Python 3 (ipykernel)",
   "language": "python",
   "name": "python3"
  },
  "language_info": {
   "codemirror_mode": {
    "name": "ipython",
    "version": 3
   },
   "file_extension": ".py",
   "mimetype": "text/x-python",
   "name": "python",
   "nbconvert_exporter": "python",
   "pygments_lexer": "ipython3",
   "version": "3.11.4"
  }
 },
 "nbformat": 4,
 "nbformat_minor": 5
}
