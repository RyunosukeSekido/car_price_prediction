{
 "cells": [
  {
   "cell_type": "code",
   "execution_count": 1,
   "id": "ef4eaab6",
   "metadata": {},
   "outputs": [
    {
     "name": "stderr",
     "output_type": "stream",
     "text": [
      "2023-08-16 20:37:05.672512: I tensorflow/core/platform/cpu_feature_guard.cc:182] This TensorFlow binary is optimized to use available CPU instructions in performance-critical operations.\n",
      "To enable the following instructions: AVX2 AVX512F AVX512_VNNI FMA, in other operations, rebuild TensorFlow with the appropriate compiler flags.\n"
     ]
    }
   ],
   "source": [
    "import pandas as pd\n",
    "import numpy as np\n",
    "import tensorflow as tf\n",
    "from sklearn.model_selection import train_test_split\n",
    "from sklearn.preprocessing import OneHotEncoder\n",
    "from keras_tuner.tuners import RandomSearch\n",
    "from tensorflow.keras.layers import Dense, Input, Dropout\n",
    "from tensorflow.keras.models import Model\n",
    "from tensorflow.keras.optimizers import Adam"
   ]
  },
  {
   "cell_type": "markdown",
   "id": "7816d8a9",
   "metadata": {},
   "source": [
    "# データの読み込み"
   ]
  },
  {
   "cell_type": "code",
   "execution_count": 2,
   "id": "cbfe6ec5",
   "metadata": {},
   "outputs": [],
   "source": [
    "train_data = pd.read_csv('../data/preprocessed_data/train_clean.csv')\n",
    "test_data = pd.read_csv('../data/preprocessed_data/test_clean.csv')"
   ]
  },
  {
   "cell_type": "markdown",
   "id": "94968d84",
   "metadata": {},
   "source": [
    "# 追加前処理"
   ]
  },
  {
   "cell_type": "code",
   "execution_count": 3,
   "id": "37ecfb85",
   "metadata": {},
   "outputs": [],
   "source": [
    "# 'id'と'price'を分離\n",
    "train_ids = train_data['id']\n",
    "train_y = train_data['price']\n",
    "test_ids = test_data['id']\n",
    "\n",
    "train_data.drop(['id', 'price'], axis=1, inplace=True)\n",
    "test_data.drop(['id'], axis=1, inplace=True)"
   ]
  },
  {
   "cell_type": "code",
   "execution_count": 4,
   "id": "3b81c54e",
   "metadata": {},
   "outputs": [
    {
     "name": "stderr",
     "output_type": "stream",
     "text": [
      "/Users/ryu/anaconda3/envs/car_price_prediction/lib/python3.11/site-packages/sklearn/preprocessing/_encoders.py:868: FutureWarning: `sparse` was renamed to `sparse_output` in version 1.2 and will be removed in 1.4. `sparse_output` is ignored unless you leave `sparse` to its default value.\n",
      "  warnings.warn(\n"
     ]
    }
   ],
   "source": [
    "# 数値でないカテゴリ変数のみをOne-Hotエンコード\n",
    "encoder = OneHotEncoder(drop='first', sparse=False, handle_unknown='error')\n",
    "X_train_encoded = encoder.fit_transform(train_data.select_dtypes(exclude=['int64', 'float64']))\n",
    "X_test_encoded = encoder.transform(test_data.select_dtypes(exclude=['int64', 'float64']))"
   ]
  },
  {
   "cell_type": "code",
   "execution_count": 5,
   "id": "a400a46e",
   "metadata": {},
   "outputs": [],
   "source": [
    "# 数値変数を結合\n",
    "X_train = pd.concat([pd.DataFrame(X_train_encoded), train_data.select_dtypes(include=['int64', 'float64'])], axis=1)\n",
    "X_test = pd.concat([pd.DataFrame(X_test_encoded), test_data.select_dtypes(include=['int64', 'float64'])], axis=1)"
   ]
  },
  {
   "cell_type": "markdown",
   "id": "1d60dccd",
   "metadata": {},
   "source": [
    "# モデル定義"
   ]
  },
  {
   "cell_type": "code",
   "execution_count": 6,
   "id": "5dbb72a9",
   "metadata": {},
   "outputs": [],
   "source": [
    "# モデルの定義\n",
    "def build_model(hp):\n",
    "    inputs = Input(shape=(X_train.shape[1]))\n",
    "    x = inputs\n",
    "    \n",
    "    for i in range(hp.Int('num_layers', 1, 5)):\n",
    "        units = hp.Int('units_' + str(i), min_value=32, max_value=512, step=32)\n",
    "        x = Dense(units, activation='relu')(x)\n",
    "        x = Dropout(hp.Float('dropout_' + str(i), min_value=0, max_value=0.5, step=0.1))(x)\n",
    "        outputs = Dense(1)(x)\n",
    "        model = Model(inputs, outputs)\n",
    "        model.compile(optimizer=Adam(hp.Choice('learning_rate', [0.01, 0.005, 0.001])), loss=tf.keras.losses.MeanAbsolutePercentageError())\n",
    "        return model"
   ]
  },
  {
   "cell_type": "code",
   "execution_count": 7,
   "id": "25160f4d",
   "metadata": {
    "scrolled": true
   },
   "outputs": [],
   "source": [
    "# ランダムサーチの実施\n",
    "tuner = RandomSearch(\n",
    "    build_model,\n",
    "    objective='val_loss',\n",
    "    max_trials=50,\n",
    "    executions_per_trial=3,\n",
    "    directory='random_search03'\n",
    ")"
   ]
  },
  {
   "cell_type": "markdown",
   "id": "7746ce57",
   "metadata": {},
   "source": [
    "# データの分割"
   ]
  },
  {
   "cell_type": "code",
   "execution_count": 8,
   "id": "007991de",
   "metadata": {
    "scrolled": true
   },
   "outputs": [
    {
     "name": "stdout",
     "output_type": "stream",
     "text": [
      "Trial 50 Complete [00h 00m 37s]\n",
      "val_loss: 47.404501597086586\n",
      "\n",
      "Best val_loss So Far: 46.05416615804037\n",
      "Total elapsed time: 00h 38m 02s\n",
      "INFO:tensorflow:Oracle triggered exit\n"
     ]
    }
   ],
   "source": [
    "# データを訓練用と検証用に分割\n",
    "X_train_split, X_val_split, y_train_split, y_val_split = train_test_split(X_train, train_y, test_size=0.2, random_state=42)\n",
    "\n",
    "# チューニングの実行（バッチサイズの調整）\n",
    "tuner.search(X_train_split, y_train_split, epochs=30, validation_data=(X_val_split, y_val_split), batch_size=512)"
   ]
  },
  {
   "cell_type": "markdown",
   "id": "735dd0ea",
   "metadata": {},
   "source": [
    "# 学習"
   ]
  },
  {
   "cell_type": "code",
   "execution_count": 9,
   "id": "28b27066",
   "metadata": {},
   "outputs": [],
   "source": [
    "# 最適なモデルの取得\n",
    "best_model = tuner.get_best_models(num_models=1)[0]"
   ]
  },
  {
   "cell_type": "code",
   "execution_count": 10,
   "id": "0ea2cfff",
   "metadata": {},
   "outputs": [
    {
     "name": "stdout",
     "output_type": "stream",
     "text": [
      "861/861 [==============================] - 2s 2ms/step\n"
     ]
    }
   ],
   "source": [
    "# 最適なモデルで予測\n",
    "predictions = best_model.predict(X_test).flatten()"
   ]
  },
  {
   "cell_type": "markdown",
   "id": "405f1968",
   "metadata": {},
   "source": [
    "# 提出ファイルの出力"
   ]
  },
  {
   "cell_type": "code",
   "execution_count": 11,
   "id": "afa0cad7",
   "metadata": {},
   "outputs": [],
   "source": [
    "# 結果をCSVファイルとして出力\n",
    "result = pd.DataFrame({'id': test_ids, 'price': predictions})\n",
    "result.to_csv('../submit-file/20230816_02_submit.csv', index=False, header=False)"
   ]
  }
 ],
 "metadata": {
  "kernelspec": {
   "display_name": "Python 3 (ipykernel)",
   "language": "python",
   "name": "python3"
  },
  "language_info": {
   "codemirror_mode": {
    "name": "ipython",
    "version": 3
   },
   "file_extension": ".py",
   "mimetype": "text/x-python",
   "name": "python",
   "nbconvert_exporter": "python",
   "pygments_lexer": "ipython3",
   "version": "3.11.4"
  }
 },
 "nbformat": 4,
 "nbformat_minor": 5
}
