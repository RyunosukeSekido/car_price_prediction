{
 "cells": [
  {
   "cell_type": "markdown",
   "id": "ef545b14",
   "metadata": {},
   "source": [
    "### ライブラリのimport"
   ]
  },
  {
   "cell_type": "code",
   "execution_count": 1,
   "id": "6f137a73",
   "metadata": {},
   "outputs": [],
   "source": [
    "import pandas as pd\n",
    "import numpy as np\n",
    "import matplotlib.pyplot as plt\n",
    "from sklearn.model_selection import train_test_split\n",
    "from sklearn.tree import DecisionTreeRegressor\n",
    "from sklearn.ensemble import RandomForestRegressor as RFR\n",
    "from sklearn.metrics import mean_absolute_percentage_error"
   ]
  },
  {
   "cell_type": "markdown",
   "id": "65ed0b9b",
   "metadata": {},
   "source": [
    "### データの読み込みと確認"
   ]
  },
  {
   "cell_type": "code",
   "execution_count": 2,
   "id": "ba096ff5",
   "metadata": {},
   "outputs": [],
   "source": [
    "train = pd.read_csv(\"../data/train.csv\")\n",
    "test = pd.read_csv(\"../data/test.csv\")"
   ]
  },
  {
   "cell_type": "markdown",
   "id": "107fb6bd",
   "metadata": {},
   "source": [
    "### データの可視化"
   ]
  },
  {
   "cell_type": "code",
   "execution_count": 7,
   "id": "7cd2cb27",
   "metadata": {},
   "outputs": [
    {
     "name": "stdout",
     "output_type": "stream",
     "text": [
      "96818\n",
      "13468.724829289555\n",
      "1004\n"
     ]
    }
   ],
   "source": [
    "#price\n",
    "print(np.max(train[\"price\"]))\n",
    "print(np.mean(train[\"price\"]))\n",
    "print(np.min(train[\"price\"]))"
   ]
  },
  {
   "cell_type": "code",
   "execution_count": 8,
   "id": "46ae24e4",
   "metadata": {},
   "outputs": [
    {
     "data": {
      "image/png": "[encoded data removed]",
      "text/plain": [
       "<Figure size 640x480 with 1 Axes>"
      ]
     },
     "metadata": {},
     "output_type": "display_data"
    }
   ],
   "source": [
    "plt.scatter(train[\"odometer\"], train[\"price\"])\n",
    "plt.xlabel(\"odometer\")\n",
    "plt.ylabel(\"price\")\n",
    "plt.show()"
   ]
  },
  {
   "cell_type": "code",
   "execution_count": 9,
   "id": "26f648f8",
   "metadata": {},
   "outputs": [
    {
     "data": {
      "text/html": [
       "<div>\n",
       "<style scoped>\n",
       "    .dataframe tbody tr th:only-of-type {\n",
       "        vertical-align: middle;\n",
       "    }\n",
       "\n",
       "    .dataframe tbody tr th {\n",
       "        vertical-align: top;\n",
       "    }\n",
       "\n",
       "    .dataframe thead th {\n",
       "        text-align: right;\n",
       "    }\n",
       "</style>\n",
       "<table border=\"1\" class=\"dataframe\">\n",
       "  <thead>\n",
       "    <tr style=\"text-align: right;\">\n",
       "      <th></th>\n",
       "      <th>mean</th>\n",
       "      <th>count</th>\n",
       "    </tr>\n",
       "    <tr>\n",
       "      <th>condition</th>\n",
       "      <th></th>\n",
       "      <th></th>\n",
       "    </tr>\n",
       "  </thead>\n",
       "  <tbody>\n",
       "    <tr>\n",
       "      <th>excellent</th>\n",
       "      <td>14662.392076</td>\n",
       "      <td>15219</td>\n",
       "    </tr>\n",
       "    <tr>\n",
       "      <th>fair</th>\n",
       "      <td>7210.345674</td>\n",
       "      <td>2404</td>\n",
       "    </tr>\n",
       "    <tr>\n",
       "      <th>good</th>\n",
       "      <td>11022.550674</td>\n",
       "      <td>6009</td>\n",
       "    </tr>\n",
       "    <tr>\n",
       "      <th>like new</th>\n",
       "      <td>16511.362730</td>\n",
       "      <td>3810</td>\n",
       "    </tr>\n",
       "    <tr>\n",
       "      <th>new</th>\n",
       "      <td>16274.418182</td>\n",
       "      <td>55</td>\n",
       "    </tr>\n",
       "    <tr>\n",
       "      <th>salvage</th>\n",
       "      <td>8640.685714</td>\n",
       "      <td>35</td>\n",
       "    </tr>\n",
       "  </tbody>\n",
       "</table>\n",
       "</div>"
      ],
      "text/plain": [
       "                   mean  count\n",
       "condition                     \n",
       "excellent  14662.392076  15219\n",
       "fair        7210.345674   2404\n",
       "good       11022.550674   6009\n",
       "like new   16511.362730   3810\n",
       "new        16274.418182     55\n",
       "salvage     8640.685714     35"
      ]
     },
     "execution_count": 9,
     "metadata": {},
     "output_type": "execute_result"
    }
   ],
   "source": [
    "#車の状態ごとの価格\n",
    "train.groupby(\"condition\")[\"price\"].agg([\"mean\", \"count\"])"
   ]
  },
  {
   "cell_type": "code",
   "execution_count": 10,
   "id": "cfadd92d",
   "metadata": {},
   "outputs": [
    {
     "data": {
      "text/html": [
       "<div>\n",
       "<style scoped>\n",
       "    .dataframe tbody tr th:only-of-type {\n",
       "        vertical-align: middle;\n",
       "    }\n",
       "\n",
       "    .dataframe tbody tr th {\n",
       "        vertical-align: top;\n",
       "    }\n",
       "\n",
       "    .dataframe thead th {\n",
       "        text-align: right;\n",
       "    }\n",
       "</style>\n",
       "<table border=\"1\" class=\"dataframe\">\n",
       "  <thead>\n",
       "    <tr style=\"text-align: right;\">\n",
       "      <th></th>\n",
       "      <th>mean</th>\n",
       "      <th>count</th>\n",
       "    </tr>\n",
       "    <tr>\n",
       "      <th>manufacturer</th>\n",
       "      <th></th>\n",
       "      <th></th>\n",
       "    </tr>\n",
       "  </thead>\n",
       "  <tbody>\n",
       "    <tr>\n",
       "      <th>ｍｅｒｃｅｄｅｓ－ｂｅｎｚ</th>\n",
       "      <td>29945.000000</td>\n",
       "      <td>1</td>\n",
       "    </tr>\n",
       "    <tr>\n",
       "      <th>land rover</th>\n",
       "      <td>28786.000000</td>\n",
       "      <td>2</td>\n",
       "    </tr>\n",
       "    <tr>\n",
       "      <th>ｄｏｄｇｅ</th>\n",
       "      <td>28109.200000</td>\n",
       "      <td>5</td>\n",
       "    </tr>\n",
       "    <tr>\n",
       "      <th>ｇｍｃ</th>\n",
       "      <td>27274.750000</td>\n",
       "      <td>4</td>\n",
       "    </tr>\n",
       "    <tr>\n",
       "      <th>ＲＡＭ</th>\n",
       "      <td>26850.500000</td>\n",
       "      <td>2</td>\n",
       "    </tr>\n",
       "    <tr>\n",
       "      <th>...</th>\n",
       "      <td>...</td>\n",
       "      <td>...</td>\n",
       "    </tr>\n",
       "    <tr>\n",
       "      <th>ＪＥＥＰ</th>\n",
       "      <td>4380.500000</td>\n",
       "      <td>2</td>\n",
       "    </tr>\n",
       "    <tr>\n",
       "      <th>MINI</th>\n",
       "      <td>3719.500000</td>\n",
       "      <td>2</td>\n",
       "    </tr>\n",
       "    <tr>\n",
       "      <th>FIAT</th>\n",
       "      <td>3238.333333</td>\n",
       "      <td>3</td>\n",
       "    </tr>\n",
       "    <tr>\n",
       "      <th>toyotа</th>\n",
       "      <td>2616.500000</td>\n",
       "      <td>2</td>\n",
       "    </tr>\n",
       "    <tr>\n",
       "      <th>ｍｅｒｃｕｒｙ</th>\n",
       "      <td>2314.500000</td>\n",
       "      <td>2</td>\n",
       "    </tr>\n",
       "  </tbody>\n",
       "</table>\n",
       "<p>125 rows × 2 columns</p>\n",
       "</div>"
      ],
      "text/plain": [
       "                       mean  count\n",
       "manufacturer                      \n",
       "ｍｅｒｃｅｄｅｓ－ｂｅｎｚ  29945.000000      1\n",
       "land rover     28786.000000      2\n",
       "ｄｏｄｇｅ          28109.200000      5\n",
       "ｇｍｃ            27274.750000      4\n",
       "ＲＡＭ            26850.500000      2\n",
       "...                     ...    ...\n",
       "ＪＥＥＰ            4380.500000      2\n",
       "MINI            3719.500000      2\n",
       "FIAT            3238.333333      3\n",
       "toyotа          2616.500000      2\n",
       "ｍｅｒｃｕｒｙ         2314.500000      2\n",
       "\n",
       "[125 rows x 2 columns]"
      ]
     },
     "execution_count": 10,
     "metadata": {},
     "output_type": "execute_result"
    }
   ],
   "source": [
    "#製造メーカごとの平均価格\n",
    "train.groupby(\"manufacturer\")[\"price\"].agg([\"mean\", \"count\"]).sort_values(by=\"mean\", ascending=False)"
   ]
  },
  {
   "cell_type": "code",
   "execution_count": 11,
   "id": "c0d355b1",
   "metadata": {
    "scrolled": true
   },
   "outputs": [
    {
     "data": {
      "image/png": "[encoded data removed]",
      "text/plain": [
       "<Figure size 640x480 with 1 Axes>"
      ]
     },
     "metadata": {},
     "output_type": "display_data"
    }
   ],
   "source": [
    "#状態ごとの平均価格\n",
    "grouped = train.groupby(\"condition\")[\"price\"].mean()\n",
    "plt.bar(grouped.index, grouped.values)\n",
    "plt.show()"
   ]
  },
  {
   "cell_type": "code",
   "execution_count": 12,
   "id": "e6df3ac5",
   "metadata": {},
   "outputs": [
    {
     "name": "stdout",
     "output_type": "stream",
     "text": [
      "ak\n",
      "al\n",
      "ar\n",
      "az\n",
      "ca\n",
      "co\n",
      "ct\n",
      "dc\n",
      "de\n",
      "fl\n",
      "ga\n",
      "hi\n",
      "ia\n",
      "id\n",
      "il\n",
      "in\n",
      "ks\n",
      "ky\n",
      "la\n",
      "ma\n",
      "md\n",
      "me\n",
      "mi\n",
      "mn\n",
      "mo\n",
      "ms\n",
      "mt\n",
      "nc\n",
      "nd\n",
      "ne\n",
      "nh\n",
      "nj\n",
      "nm\n",
      "nv\n",
      "ny\n",
      "oh\n",
      "ok\n",
      "or\n",
      "pa\n",
      "ri\n",
      "sc\n",
      "sd\n",
      "tn\n",
      "tx\n",
      "ut\n",
      "va\n",
      "vt\n",
      "wa\n",
      "wi\n",
      "wv\n",
      "wy\n"
     ]
    }
   ],
   "source": [
    "# 販売州の種類を確認\n",
    "state_grouped = train.groupby(\"state\")\n",
    "for name, group in state_grouped:\n",
    "    print(name)"
   ]
  },
  {
   "cell_type": "code",
   "execution_count": 13,
   "id": "d2d452b0",
   "metadata": {
    "scrolled": true
   },
   "outputs": [
    {
     "data": {
      "image/png": "[encoded data removed]",
      "text/plain": [
       "<Figure size 640x480 with 1 Axes>"
      ]
     },
     "metadata": {},
     "output_type": "display_data"
    }
   ],
   "source": [
    "#販売州の状態ごとの平均価格\n",
    "title_status_grouped = train.groupby(\"state\")[\"price\"].mean()\n",
    "plt.bar(title_status_grouped.index, title_status_grouped.values)\n",
    "plt.show()"
   ]
  },
  {
   "cell_type": "code",
   "execution_count": 14,
   "id": "055aa456",
   "metadata": {},
   "outputs": [
    {
     "name": "stdout",
     "output_type": "stream",
     "text": [
      "値の種類の数: 125\n",
      "ACURA\n",
      "AUDI\n",
      "BMW\n",
      "BUICK\n",
      "CADILLAC\n",
      "CHEVROLET\n",
      "CHRYSLER\n",
      "DODGE\n",
      "FIAT\n",
      "FORD\n",
      "GMC\n",
      "HONDA\n",
      "HYUNDAI\n",
      "INFINITI\n",
      "JAGUAR\n",
      "JEEP\n",
      "KIA\n",
      "LEXUS\n",
      "LINCOLN\n",
      "MAZDA\n",
      "MERCEDES-BENZ\n",
      "MERCURY\n",
      "MINI\n",
      "MITSUBISHI\n",
      "NISSAN\n",
      "PONTIAC\n",
      "RAM\n",
      "ROVER\n",
      "SATURN\n",
      "SUBARU\n",
      "SUBΑRU\n",
      "SΑTURN\n",
      "TOYOTA\n",
      "VOLKSWAGEN\n",
      "VOLVO\n",
      "acura\n",
      "alfa-romeo\n",
      "aston-martin\n",
      "audi\n",
      "bmw\n",
      "buick\n",
      "cadillac\n",
      "chevrolet\n",
      "chrysler\n",
      "dodge\n",
      "fiat\n",
      "ford\n",
      "gmc\n",
      "honda\n",
      "hyundai\n",
      "infiniti\n",
      "jaguar\n",
      "jeep\n",
      "kia\n",
      "land rover\n",
      "lexus\n",
      "lexuѕ\n",
      "lincoln\n",
      "mazda\n",
      "mercedes-benz\n",
      "mercury\n",
      "mini\n",
      "mitsubishi\n",
      "nissan\n",
      "nisѕan\n",
      "niѕsan\n",
      "pontiac\n",
      "porsche\n",
      "ram\n",
      "rover\n",
      "saturn\n",
      "subaru\n",
      "toyota\n",
      "toyotа\n",
      "volkswagen\n",
      "volvo\n",
      "vоlkswagen\n",
      "аcura\n",
      "ᴄhrysler\n",
      "ＡＣＵＲＡ\n",
      "ＢＭＷ\n",
      "ＢＵＩＣＫ\n",
      "ＣＡＤＩＬＬＡＣ\n",
      "ＣＨＥＶＲＯＬＥＴ\n",
      "ＤＯＤＧＥ\n",
      "ＦＯＲＤ\n",
      "ＨＹＵＮＤＡＩ\n",
      "ＪＥＥＰ\n",
      "ＭＡＺＤＡ\n",
      "ＭＥＲＣＵＲＹ\n",
      "ＭＩＮＩ\n",
      "ＭＩＴＳＵＢＩＳＨＩ\n",
      "ＮＩＳＳＡＮ\n",
      "ＲＡＭ\n",
      "ＳＵＢＡＲＵ\n",
      "ＴＯＹＯＴＡ\n",
      "ＶＯＬＫＳＷＡＧＥＮ\n",
      "ａｃｕｒａ\n",
      "ａｕｄｉ\n",
      "ｂｍｗ\n",
      "ｂｕｉｃｋ\n",
      "ｃａｄｉｌｌａｃ\n",
      "ｃｈｅｖｒｏｌｅｔ\n",
      "ｃｈｒｙｓｌｅｒ\n",
      "ｄｏｄｇｅ\n",
      "ｆｏｒｄ\n",
      "ｇｍｃ\n",
      "ｈｏｎｄａ\n",
      "ｈｙｕｎｄａｉ\n",
      "ｉｎｆｉｎｉｔｉ\n",
      "ｊｅｅｐ\n",
      "ｋｉａ\n",
      "ｌｅｘｕｓ\n",
      "ｍａｚｄａ\n",
      "ｍｅｒｃｅｄｅｓ－ｂｅｎｚ\n",
      "ｍｅｒｃｕｒｙ\n",
      "ｍｉｔｓｕｂｉｓｈｉ\n",
      "ｎｉｓｓａｎ\n",
      "ｐｏｎｔｉａｃ\n",
      "ｒａｍ\n",
      "ｓａｔｕｒｎ\n",
      "ｓｕｂａｒｕ\n",
      "ｔｏｙｏｔａ\n",
      "ｖｏｌｋｓｗａｇｅｎ\n",
      "ｖｏｌｖｏ\n"
     ]
    }
   ],
   "source": [
    "#製造メーカのデータ確認\n",
    "manufacturer_values_count = train[\"manufacturer\"].nunique()\n",
    "print(\"値の種類の数:\", manufacturer_values_count)\n",
    "\n",
    "manufacturer_grouped = train.groupby(\"manufacturer\")\n",
    "for name, group in manufacturer_grouped:\n",
    "    print(name)"
   ]
  },
  {
   "cell_type": "markdown",
   "id": "4ffcd96b",
   "metadata": {},
   "source": [
    "### 前処理"
   ]
  },
  {
   "cell_type": "code",
   "execution_count": 15,
   "id": "bd1a001e",
   "metadata": {},
   "outputs": [],
   "source": [
    "# manufacturerカラムを整形\n",
    "train['manufacturer'] = train['manufacturer'].str.replace(' ', '')  # スペースの除去\n",
    "train['manufacturer'] = train['manufacturer'].str.upper()          # 大文字に統一\n",
    "train['manufacturer'] = train['manufacturer'].str.normalize('NFKC')  # 半角に統一\n",
    "\n",
    "test['manufacturer'] = test['manufacturer'].str.replace(' ', '')  # スペースの除去\n",
    "test['manufacturer'] = test['manufacturer'].str.upper()          # 大文字に統一\n",
    "test['manufacturer'] = test['manufacturer'].str.normalize('NFKC')  # 半角に統一"
   ]
  },
  {
   "cell_type": "code",
   "execution_count": 16,
   "id": "ecc43d1b",
   "metadata": {},
   "outputs": [],
   "source": [
    "#ダミー変数に変換\n",
    "train = pd.get_dummies(train, columns=[\"condition\", \"manufacturer\", \"state\"])\n",
    "test = pd.get_dummies(test, columns=[\"condition\", \"manufacturer\", \"state\"])\n"
   ]
  },
  {
   "cell_type": "code",
   "execution_count": 17,
   "id": "3628aacb",
   "metadata": {},
   "outputs": [
    {
     "data": {
      "text/html": [
       "<div>\n",
       "<style scoped>\n",
       "    .dataframe tbody tr th:only-of-type {\n",
       "        vertical-align: middle;\n",
       "    }\n",
       "\n",
       "    .dataframe tbody tr th {\n",
       "        vertical-align: top;\n",
       "    }\n",
       "\n",
       "    .dataframe thead th {\n",
       "        text-align: right;\n",
       "    }\n",
       "</style>\n",
       "<table border=\"1\" class=\"dataframe\">\n",
       "  <thead>\n",
       "    <tr style=\"text-align: right;\">\n",
       "      <th></th>\n",
       "      <th>id</th>\n",
       "      <th>region</th>\n",
       "      <th>year</th>\n",
       "      <th>cylinders</th>\n",
       "      <th>fuel</th>\n",
       "      <th>odometer</th>\n",
       "      <th>title_status</th>\n",
       "      <th>transmission</th>\n",
       "      <th>drive</th>\n",
       "      <th>size</th>\n",
       "      <th>...</th>\n",
       "      <th>state_sd</th>\n",
       "      <th>state_tn</th>\n",
       "      <th>state_tx</th>\n",
       "      <th>state_ut</th>\n",
       "      <th>state_va</th>\n",
       "      <th>state_vt</th>\n",
       "      <th>state_wa</th>\n",
       "      <th>state_wi</th>\n",
       "      <th>state_wv</th>\n",
       "      <th>state_wy</th>\n",
       "    </tr>\n",
       "  </thead>\n",
       "  <tbody>\n",
       "    <tr>\n",
       "      <th>0</th>\n",
       "      <td>0</td>\n",
       "      <td>nashville</td>\n",
       "      <td>1949</td>\n",
       "      <td>6 cylinders</td>\n",
       "      <td>gas</td>\n",
       "      <td>115148</td>\n",
       "      <td>clean</td>\n",
       "      <td>manual</td>\n",
       "      <td>rwd</td>\n",
       "      <td>mid-size</td>\n",
       "      <td>...</td>\n",
       "      <td>0</td>\n",
       "      <td>0</td>\n",
       "      <td>0</td>\n",
       "      <td>0</td>\n",
       "      <td>0</td>\n",
       "      <td>0</td>\n",
       "      <td>0</td>\n",
       "      <td>0</td>\n",
       "      <td>0</td>\n",
       "      <td>0</td>\n",
       "    </tr>\n",
       "    <tr>\n",
       "      <th>1</th>\n",
       "      <td>1</td>\n",
       "      <td>state college</td>\n",
       "      <td>2013</td>\n",
       "      <td>8 cylinders</td>\n",
       "      <td>gas</td>\n",
       "      <td>172038</td>\n",
       "      <td>clean</td>\n",
       "      <td>automatic</td>\n",
       "      <td>rwd</td>\n",
       "      <td>full-size</td>\n",
       "      <td>...</td>\n",
       "      <td>0</td>\n",
       "      <td>0</td>\n",
       "      <td>0</td>\n",
       "      <td>0</td>\n",
       "      <td>0</td>\n",
       "      <td>0</td>\n",
       "      <td>0</td>\n",
       "      <td>0</td>\n",
       "      <td>0</td>\n",
       "      <td>0</td>\n",
       "    </tr>\n",
       "    <tr>\n",
       "      <th>2</th>\n",
       "      <td>2</td>\n",
       "      <td>wichita</td>\n",
       "      <td>1998</td>\n",
       "      <td>6 cylinders</td>\n",
       "      <td>gas</td>\n",
       "      <td>152492</td>\n",
       "      <td>clean</td>\n",
       "      <td>automatic</td>\n",
       "      <td>fwd</td>\n",
       "      <td>full-size</td>\n",
       "      <td>...</td>\n",
       "      <td>0</td>\n",
       "      <td>0</td>\n",
       "      <td>0</td>\n",
       "      <td>0</td>\n",
       "      <td>0</td>\n",
       "      <td>0</td>\n",
       "      <td>0</td>\n",
       "      <td>0</td>\n",
       "      <td>0</td>\n",
       "      <td>0</td>\n",
       "    </tr>\n",
       "    <tr>\n",
       "      <th>3</th>\n",
       "      <td>3</td>\n",
       "      <td>albany</td>\n",
       "      <td>2014</td>\n",
       "      <td>4 cylinders</td>\n",
       "      <td>gas</td>\n",
       "      <td>104118</td>\n",
       "      <td>clean</td>\n",
       "      <td>manual</td>\n",
       "      <td>fwd</td>\n",
       "      <td>mid-size</td>\n",
       "      <td>...</td>\n",
       "      <td>0</td>\n",
       "      <td>0</td>\n",
       "      <td>0</td>\n",
       "      <td>0</td>\n",
       "      <td>0</td>\n",
       "      <td>0</td>\n",
       "      <td>0</td>\n",
       "      <td>0</td>\n",
       "      <td>0</td>\n",
       "      <td>0</td>\n",
       "    </tr>\n",
       "    <tr>\n",
       "      <th>4</th>\n",
       "      <td>4</td>\n",
       "      <td>redding</td>\n",
       "      <td>2005</td>\n",
       "      <td>6 cylinders</td>\n",
       "      <td>gas</td>\n",
       "      <td>144554</td>\n",
       "      <td>clean</td>\n",
       "      <td>manual</td>\n",
       "      <td>fwd</td>\n",
       "      <td>mid-size</td>\n",
       "      <td>...</td>\n",
       "      <td>0</td>\n",
       "      <td>0</td>\n",
       "      <td>0</td>\n",
       "      <td>0</td>\n",
       "      <td>0</td>\n",
       "      <td>0</td>\n",
       "      <td>0</td>\n",
       "      <td>0</td>\n",
       "      <td>0</td>\n",
       "      <td>0</td>\n",
       "    </tr>\n",
       "  </tbody>\n",
       "</table>\n",
       "<p>5 rows × 116 columns</p>\n",
       "</div>"
      ],
      "text/plain": [
       "   id         region  year    cylinders fuel  odometer title_status  \\\n",
       "0   0      nashville  1949  6 cylinders  gas    115148        clean   \n",
       "1   1  state college  2013  8 cylinders  gas    172038        clean   \n",
       "2   2        wichita  1998  6 cylinders  gas    152492        clean   \n",
       "3   3         albany  2014  4 cylinders  gas    104118        clean   \n",
       "4   4        redding  2005  6 cylinders  gas    144554        clean   \n",
       "\n",
       "  transmission drive       size  ... state_sd state_tn  state_tx  state_ut  \\\n",
       "0       manual   rwd   mid-size  ...        0        0         0         0   \n",
       "1    automatic   rwd  full-size  ...        0        0         0         0   \n",
       "2    automatic   fwd  full-size  ...        0        0         0         0   \n",
       "3       manual   fwd   mid-size  ...        0        0         0         0   \n",
       "4       manual   fwd   mid-size  ...        0        0         0         0   \n",
       "\n",
       "   state_va  state_vt  state_wa  state_wi  state_wv  state_wy  \n",
       "0         0         0         0         0         0         0  \n",
       "1         0         0         0         0         0         0  \n",
       "2         0         0         0         0         0         0  \n",
       "3         0         0         0         0         0         0  \n",
       "4         0         0         0         0         0         0  \n",
       "\n",
       "[5 rows x 116 columns]"
      ]
     },
     "execution_count": 17,
     "metadata": {},
     "output_type": "execute_result"
    }
   ],
   "source": [
    "train.head()"
   ]
  },
  {
   "cell_type": "code",
   "execution_count": 18,
   "id": "c9ebe5f4",
   "metadata": {},
   "outputs": [
    {
     "data": {
      "text/plain": [
       "0    0\n",
       "1    1\n",
       "2    0\n",
       "3    0\n",
       "4    0\n",
       "Name: manufacturer_TOYOTA, dtype: uint8"
      ]
     },
     "execution_count": 18,
     "metadata": {},
     "output_type": "execute_result"
    }
   ],
   "source": [
    "#TOYOTAのデータを確認\n",
    "train[\"manufacturer_TOYOTA\"].head()"
   ]
  },
  {
   "cell_type": "code",
   "execution_count": 19,
   "id": "942dcf2d",
   "metadata": {
    "scrolled": true
   },
   "outputs": [
    {
     "data": {
      "text/html": [
       "<div>\n",
       "<style scoped>\n",
       "    .dataframe tbody tr th:only-of-type {\n",
       "        vertical-align: middle;\n",
       "    }\n",
       "\n",
       "    .dataframe tbody tr th {\n",
       "        vertical-align: top;\n",
       "    }\n",
       "\n",
       "    .dataframe thead th {\n",
       "        text-align: right;\n",
       "    }\n",
       "</style>\n",
       "<table border=\"1\" class=\"dataframe\">\n",
       "  <thead>\n",
       "    <tr style=\"text-align: right;\">\n",
       "      <th></th>\n",
       "      <th>condition_excellent</th>\n",
       "      <th>condition_fair</th>\n",
       "      <th>condition_good</th>\n",
       "      <th>condition_like new</th>\n",
       "      <th>condition_new</th>\n",
       "      <th>condition_salvage</th>\n",
       "    </tr>\n",
       "  </thead>\n",
       "  <tbody>\n",
       "    <tr>\n",
       "      <th>0</th>\n",
       "      <td>1</td>\n",
       "      <td>0</td>\n",
       "      <td>0</td>\n",
       "      <td>0</td>\n",
       "      <td>0</td>\n",
       "      <td>0</td>\n",
       "    </tr>\n",
       "    <tr>\n",
       "      <th>1</th>\n",
       "      <td>0</td>\n",
       "      <td>1</td>\n",
       "      <td>0</td>\n",
       "      <td>0</td>\n",
       "      <td>0</td>\n",
       "      <td>0</td>\n",
       "    </tr>\n",
       "    <tr>\n",
       "      <th>2</th>\n",
       "      <td>0</td>\n",
       "      <td>0</td>\n",
       "      <td>1</td>\n",
       "      <td>0</td>\n",
       "      <td>0</td>\n",
       "      <td>0</td>\n",
       "    </tr>\n",
       "    <tr>\n",
       "      <th>3</th>\n",
       "      <td>1</td>\n",
       "      <td>0</td>\n",
       "      <td>0</td>\n",
       "      <td>0</td>\n",
       "      <td>0</td>\n",
       "      <td>0</td>\n",
       "    </tr>\n",
       "    <tr>\n",
       "      <th>4</th>\n",
       "      <td>1</td>\n",
       "      <td>0</td>\n",
       "      <td>0</td>\n",
       "      <td>0</td>\n",
       "      <td>0</td>\n",
       "      <td>0</td>\n",
       "    </tr>\n",
       "  </tbody>\n",
       "</table>\n",
       "</div>"
      ],
      "text/plain": [
       "   condition_excellent  condition_fair  condition_good  condition_like new  \\\n",
       "0                    1               0               0                   0   \n",
       "1                    0               1               0                   0   \n",
       "2                    0               0               1                   0   \n",
       "3                    1               0               0                   0   \n",
       "4                    1               0               0                   0   \n",
       "\n",
       "   condition_new  condition_salvage  \n",
       "0              0                  0  \n",
       "1              0                  0  \n",
       "2              0                  0  \n",
       "3              0                  0  \n",
       "4              0                  0  "
      ]
     },
     "execution_count": 19,
     "metadata": {},
     "output_type": "execute_result"
    }
   ],
   "source": [
    "train[['condition_excellent', 'condition_fair', 'condition_good', 'condition_like new', 'condition_new', 'condition_salvage']].head()"
   ]
  },
  {
   "cell_type": "markdown",
   "id": "4a4d20b0",
   "metadata": {},
   "source": [
    "### データの分割"
   ]
  },
  {
   "cell_type": "code",
   "execution_count": 20,
   "id": "a7f4e112",
   "metadata": {},
   "outputs": [],
   "source": [
    "#priceは予測対象で学習に必要なため別途targetの変数に格納する\n",
    "target = train[\"price\"]\n",
    "#学習させる特徴以外を削除\n",
    "train = train.drop(columns=['id', 'region', 'year', 'cylinders', 'fuel', 'title_status', 'transmission', 'drive', 'size', 'type', 'paint_color', \"price\"], axis=1)\n",
    "test = test.drop(columns=['id', 'region', 'year', 'cylinders', 'fuel', 'title_status', 'transmission', 'drive', 'size', 'type', 'paint_color'], axis=1)"
   ]
  },
  {
   "cell_type": "code",
   "execution_count": 21,
   "id": "7c083f8a",
   "metadata": {},
   "outputs": [
    {
     "data": {
      "text/html": [
       "<div>\n",
       "<style scoped>\n",
       "    .dataframe tbody tr th:only-of-type {\n",
       "        vertical-align: middle;\n",
       "    }\n",
       "\n",
       "    .dataframe tbody tr th {\n",
       "        vertical-align: top;\n",
       "    }\n",
       "\n",
       "    .dataframe thead th {\n",
       "        text-align: right;\n",
       "    }\n",
       "</style>\n",
       "<table border=\"1\" class=\"dataframe\">\n",
       "  <thead>\n",
       "    <tr style=\"text-align: right;\">\n",
       "      <th></th>\n",
       "      <th>odometer</th>\n",
       "      <th>condition_excellent</th>\n",
       "      <th>condition_fair</th>\n",
       "      <th>condition_good</th>\n",
       "      <th>condition_like new</th>\n",
       "      <th>condition_new</th>\n",
       "      <th>condition_salvage</th>\n",
       "      <th>manufacturer_ACURA</th>\n",
       "      <th>manufacturer_ALFA-ROMEO</th>\n",
       "      <th>manufacturer_ASTON-MARTIN</th>\n",
       "      <th>...</th>\n",
       "      <th>state_sd</th>\n",
       "      <th>state_tn</th>\n",
       "      <th>state_tx</th>\n",
       "      <th>state_ut</th>\n",
       "      <th>state_va</th>\n",
       "      <th>state_vt</th>\n",
       "      <th>state_wa</th>\n",
       "      <th>state_wi</th>\n",
       "      <th>state_wv</th>\n",
       "      <th>state_wy</th>\n",
       "    </tr>\n",
       "  </thead>\n",
       "  <tbody>\n",
       "    <tr>\n",
       "      <th>0</th>\n",
       "      <td>115148</td>\n",
       "      <td>1</td>\n",
       "      <td>0</td>\n",
       "      <td>0</td>\n",
       "      <td>0</td>\n",
       "      <td>0</td>\n",
       "      <td>0</td>\n",
       "      <td>0</td>\n",
       "      <td>0</td>\n",
       "      <td>0</td>\n",
       "      <td>...</td>\n",
       "      <td>0</td>\n",
       "      <td>0</td>\n",
       "      <td>0</td>\n",
       "      <td>0</td>\n",
       "      <td>0</td>\n",
       "      <td>0</td>\n",
       "      <td>0</td>\n",
       "      <td>0</td>\n",
       "      <td>0</td>\n",
       "      <td>0</td>\n",
       "    </tr>\n",
       "    <tr>\n",
       "      <th>1</th>\n",
       "      <td>172038</td>\n",
       "      <td>0</td>\n",
       "      <td>1</td>\n",
       "      <td>0</td>\n",
       "      <td>0</td>\n",
       "      <td>0</td>\n",
       "      <td>0</td>\n",
       "      <td>0</td>\n",
       "      <td>0</td>\n",
       "      <td>0</td>\n",
       "      <td>...</td>\n",
       "      <td>0</td>\n",
       "      <td>0</td>\n",
       "      <td>0</td>\n",
       "      <td>0</td>\n",
       "      <td>0</td>\n",
       "      <td>0</td>\n",
       "      <td>0</td>\n",
       "      <td>0</td>\n",
       "      <td>0</td>\n",
       "      <td>0</td>\n",
       "    </tr>\n",
       "    <tr>\n",
       "      <th>2</th>\n",
       "      <td>152492</td>\n",
       "      <td>0</td>\n",
       "      <td>0</td>\n",
       "      <td>1</td>\n",
       "      <td>0</td>\n",
       "      <td>0</td>\n",
       "      <td>0</td>\n",
       "      <td>0</td>\n",
       "      <td>0</td>\n",
       "      <td>0</td>\n",
       "      <td>...</td>\n",
       "      <td>0</td>\n",
       "      <td>0</td>\n",
       "      <td>0</td>\n",
       "      <td>0</td>\n",
       "      <td>0</td>\n",
       "      <td>0</td>\n",
       "      <td>0</td>\n",
       "      <td>0</td>\n",
       "      <td>0</td>\n",
       "      <td>0</td>\n",
       "    </tr>\n",
       "    <tr>\n",
       "      <th>3</th>\n",
       "      <td>104118</td>\n",
       "      <td>1</td>\n",
       "      <td>0</td>\n",
       "      <td>0</td>\n",
       "      <td>0</td>\n",
       "      <td>0</td>\n",
       "      <td>0</td>\n",
       "      <td>0</td>\n",
       "      <td>0</td>\n",
       "      <td>0</td>\n",
       "      <td>...</td>\n",
       "      <td>0</td>\n",
       "      <td>0</td>\n",
       "      <td>0</td>\n",
       "      <td>0</td>\n",
       "      <td>0</td>\n",
       "      <td>0</td>\n",
       "      <td>0</td>\n",
       "      <td>0</td>\n",
       "      <td>0</td>\n",
       "      <td>0</td>\n",
       "    </tr>\n",
       "    <tr>\n",
       "      <th>4</th>\n",
       "      <td>144554</td>\n",
       "      <td>1</td>\n",
       "      <td>0</td>\n",
       "      <td>0</td>\n",
       "      <td>0</td>\n",
       "      <td>0</td>\n",
       "      <td>0</td>\n",
       "      <td>0</td>\n",
       "      <td>0</td>\n",
       "      <td>0</td>\n",
       "      <td>...</td>\n",
       "      <td>0</td>\n",
       "      <td>0</td>\n",
       "      <td>0</td>\n",
       "      <td>0</td>\n",
       "      <td>0</td>\n",
       "      <td>0</td>\n",
       "      <td>0</td>\n",
       "      <td>0</td>\n",
       "      <td>0</td>\n",
       "      <td>0</td>\n",
       "    </tr>\n",
       "  </tbody>\n",
       "</table>\n",
       "<p>5 rows × 104 columns</p>\n",
       "</div>"
      ],
      "text/plain": [
       "   odometer  condition_excellent  condition_fair  condition_good  \\\n",
       "0    115148                    1               0               0   \n",
       "1    172038                    0               1               0   \n",
       "2    152492                    0               0               1   \n",
       "3    104118                    1               0               0   \n",
       "4    144554                    1               0               0   \n",
       "\n",
       "   condition_like new  condition_new  condition_salvage  manufacturer_ACURA  \\\n",
       "0                   0              0                  0                   0   \n",
       "1                   0              0                  0                   0   \n",
       "2                   0              0                  0                   0   \n",
       "3                   0              0                  0                   0   \n",
       "4                   0              0                  0                   0   \n",
       "\n",
       "   manufacturer_ALFA-ROMEO  manufacturer_ASTON-MARTIN  ...  state_sd  \\\n",
       "0                        0                          0  ...         0   \n",
       "1                        0                          0  ...         0   \n",
       "2                        0                          0  ...         0   \n",
       "3                        0                          0  ...         0   \n",
       "4                        0                          0  ...         0   \n",
       "\n",
       "   state_tn  state_tx  state_ut  state_va  state_vt  state_wa  state_wi  \\\n",
       "0         0         0         0         0         0         0         0   \n",
       "1         0         0         0         0         0         0         0   \n",
       "2         0         0         0         0         0         0         0   \n",
       "3         0         0         0         0         0         0         0   \n",
       "4         0         0         0         0         0         0         0   \n",
       "\n",
       "   state_wv  state_wy  \n",
       "0         0         0  \n",
       "1         0         0  \n",
       "2         0         0  \n",
       "3         0         0  \n",
       "4         0         0  \n",
       "\n",
       "[5 rows x 104 columns]"
      ]
     },
     "execution_count": 21,
     "metadata": {},
     "output_type": "execute_result"
    }
   ],
   "source": [
    "train.head()"
   ]
  },
  {
   "cell_type": "code",
   "execution_count": 22,
   "id": "0c5fbaf6",
   "metadata": {
    "scrolled": true
   },
   "outputs": [
    {
     "name": "stdout",
     "output_type": "stream",
     "text": [
      "(20649, 104) (6883, 104) (20649,) (6883,)\n"
     ]
    }
   ],
   "source": [
    "X_train, X_valid, y_train, y_valid = train_test_split(train, target, random_state = 82)\n",
    "print(X_train.shape, X_valid.shape, y_train.shape, y_valid.shape)"
   ]
  },
  {
   "cell_type": "markdown",
   "id": "8feaaa86",
   "metadata": {},
   "source": [
    "### 学習と検証"
   ]
  },
  {
   "cell_type": "code",
   "execution_count": 23,
   "id": "6fd8ebb4",
   "metadata": {},
   "outputs": [
    {
     "data": {
      "text/html": [
       "<style>#sk-container-id-1 {color: black;background-color: white;}#sk-container-id-1 pre{padding: 0;}#sk-container-id-1 div.sk-toggleable {background-color: white;}#sk-container-id-1 label.sk-toggleable__label {cursor: pointer;display: block;width: 100%;margin-bottom: 0;padding: 0.3em;box-sizing: border-box;text-align: center;}#sk-container-id-1 label.sk-toggleable__label-arrow:before {content: \"▸\";float: left;margin-right: 0.25em;color: #696969;}#sk-container-id-1 label.sk-toggleable__label-arrow:hover:before {color: black;}#sk-container-id-1 div.sk-estimator:hover label.sk-toggleable__label-arrow:before {color: black;}#sk-container-id-1 div.sk-toggleable__content {max-height: 0;max-width: 0;overflow: hidden;text-align: left;background-color: #f0f8ff;}#sk-container-id-1 div.sk-toggleable__content pre {margin: 0.2em;color: black;border-radius: 0.25em;background-color: #f0f8ff;}#sk-container-id-1 input.sk-toggleable__control:checked~div.sk-toggleable__content {max-height: 200px;max-width: 100%;overflow: auto;}#sk-container-id-1 input.sk-toggleable__control:checked~label.sk-toggleable__label-arrow:before {content: \"▾\";}#sk-container-id-1 div.sk-estimator input.sk-toggleable__control:checked~label.sk-toggleable__label {background-color: #d4ebff;}#sk-container-id-1 div.sk-label input.sk-toggleable__control:checked~label.sk-toggleable__label {background-color: #d4ebff;}#sk-container-id-1 input.sk-hidden--visually {border: 0;clip: rect(1px 1px 1px 1px);clip: rect(1px, 1px, 1px, 1px);height: 1px;margin: -1px;overflow: hidden;padding: 0;position: absolute;width: 1px;}#sk-container-id-1 div.sk-estimator {font-family: monospace;background-color: #f0f8ff;border: 1px dotted black;border-radius: 0.25em;box-sizing: border-box;margin-bottom: 0.5em;}#sk-container-id-1 div.sk-estimator:hover {background-color: #d4ebff;}#sk-container-id-1 div.sk-parallel-item::after {content: \"\";width: 100%;border-bottom: 1px solid gray;flex-grow: 1;}#sk-container-id-1 div.sk-label:hover label.sk-toggleable__label {background-color: #d4ebff;}#sk-container-id-1 div.sk-serial::before {content: \"\";position: absolute;border-left: 1px solid gray;box-sizing: border-box;top: 0;bottom: 0;left: 50%;z-index: 0;}#sk-container-id-1 div.sk-serial {display: flex;flex-direction: column;align-items: center;background-color: white;padding-right: 0.2em;padding-left: 0.2em;position: relative;}#sk-container-id-1 div.sk-item {position: relative;z-index: 1;}#sk-container-id-1 div.sk-parallel {display: flex;align-items: stretch;justify-content: center;background-color: white;position: relative;}#sk-container-id-1 div.sk-item::before, #sk-container-id-1 div.sk-parallel-item::before {content: \"\";position: absolute;border-left: 1px solid gray;box-sizing: border-box;top: 0;bottom: 0;left: 50%;z-index: -1;}#sk-container-id-1 div.sk-parallel-item {display: flex;flex-direction: column;z-index: 1;position: relative;background-color: white;}#sk-container-id-1 div.sk-parallel-item:first-child::after {align-self: flex-end;width: 50%;}#sk-container-id-1 div.sk-parallel-item:last-child::after {align-self: flex-start;width: 50%;}#sk-container-id-1 div.sk-parallel-item:only-child::after {width: 0;}#sk-container-id-1 div.sk-dashed-wrapped {border: 1px dashed gray;margin: 0 0.4em 0.5em 0.4em;box-sizing: border-box;padding-bottom: 0.4em;background-color: white;}#sk-container-id-1 div.sk-label label {font-family: monospace;font-weight: bold;display: inline-block;line-height: 1.2em;}#sk-container-id-1 div.sk-label-container {text-align: center;}#sk-container-id-1 div.sk-container {/* jupyter's `normalize.less` sets `[hidden] { display: none; }` but bootstrap.min.css set `[hidden] { display: none !important; }` so we also need the `!important` here to be able to override the default hidden behavior on the sphinx rendered scikit-learn.org. See: https://github.com/scikit-learn/scikit-learn/issues/21755 */display: inline-block !important;position: relative;}#sk-container-id-1 div.sk-text-repr-fallback {display: none;}</style><div id=\"sk-container-id-1\" class=\"sk-top-container\"><div class=\"sk-text-repr-fallback\"><pre>RandomForestRegressor(random_state=100)</pre><b>In a Jupyter environment, please rerun this cell to show the HTML representation or trust the notebook. <br />On GitHub, the HTML representation is unable to render, please try loading this page with nbviewer.org.</b></div><div class=\"sk-container\" hidden><div class=\"sk-item\"><div class=\"sk-estimator sk-toggleable\"><input class=\"sk-toggleable__control sk-hidden--visually\" id=\"sk-estimator-id-1\" type=\"checkbox\" checked><label for=\"sk-estimator-id-1\" class=\"sk-toggleable__label sk-toggleable__label-arrow\">RandomForestRegressor</label><div class=\"sk-toggleable__content\"><pre>RandomForestRegressor(random_state=100)</pre></div></div></div></div></div>"
      ],
      "text/plain": [
       "RandomForestRegressor(random_state=100)"
      ]
     },
     "execution_count": 23,
     "metadata": {},
     "output_type": "execute_result"
    }
   ],
   "source": [
    "#ランダムフォレストで学習\n",
    "model = RFR(random_state=100)\n",
    "model.fit(X_train, y_train)"
   ]
  },
  {
   "cell_type": "code",
   "execution_count": 24,
   "id": "4e09bbb4",
   "metadata": {},
   "outputs": [],
   "source": [
    "#予測\n",
    "pred = model.predict(X_valid)"
   ]
  },
  {
   "cell_type": "code",
   "execution_count": 25,
   "id": "ee2b7e64",
   "metadata": {},
   "outputs": [
    {
     "name": "stdout",
     "output_type": "stream",
     "text": [
      "[ 7363.78  7028.97  3563.11  9757.52 17677.86]\n"
     ]
    }
   ],
   "source": [
    "#予測の中身確認\n",
    "print(pred[:5])"
   ]
  },
  {
   "cell_type": "code",
   "execution_count": 26,
   "id": "5033ac51",
   "metadata": {},
   "outputs": [
    {
     "name": "stdout",
     "output_type": "stream",
     "text": [
      "79.80896718641884\n"
     ]
    }
   ],
   "source": [
    "#評価\n",
    "score = mean_absolute_percentage_error(y_valid, pred)\n",
    "print(score*100)"
   ]
  },
  {
   "cell_type": "code",
   "execution_count": 27,
   "id": "cfbe6aa6",
   "metadata": {},
   "outputs": [
    {
     "data": {
      "image/png": "[encoded data removed]",
      "text/plain": [
       "<Figure size 640x480 with 1 Axes>"
      ]
     },
     "metadata": {},
     "output_type": "display_data"
    }
   ],
   "source": [
    "#横軸が予測結果、縦軸が正解価格\n",
    "plt.scatter(pred, y_valid)\n",
    "plt.xlabel(\"predict\")\n",
    "plt.ylabel(\"price\")\n",
    "plt.show()"
   ]
  },
  {
   "cell_type": "markdown",
   "id": "9fafaf87",
   "metadata": {},
   "source": [
    "### 提出ファイルの出力"
   ]
  },
  {
   "cell_type": "code",
   "execution_count": 28,
   "id": "8f7b555b",
   "metadata": {},
   "outputs": [],
   "source": [
    "predict = model.predict(test)"
   ]
  },
  {
   "cell_type": "code",
   "execution_count": 29,
   "id": "bdc4e416",
   "metadata": {},
   "outputs": [
    {
     "data": {
      "text/html": [
       "<div>\n",
       "<style scoped>\n",
       "    .dataframe tbody tr th:only-of-type {\n",
       "        vertical-align: middle;\n",
       "    }\n",
       "\n",
       "    .dataframe tbody tr th {\n",
       "        vertical-align: top;\n",
       "    }\n",
       "\n",
       "    .dataframe thead th {\n",
       "        text-align: right;\n",
       "    }\n",
       "</style>\n",
       "<table border=\"1\" class=\"dataframe\">\n",
       "  <thead>\n",
       "    <tr style=\"text-align: right;\">\n",
       "      <th></th>\n",
       "      <th>0</th>\n",
       "      <th>1</th>\n",
       "    </tr>\n",
       "  </thead>\n",
       "  <tbody>\n",
       "    <tr>\n",
       "      <th>0</th>\n",
       "      <td>27532</td>\n",
       "      <td>14994.540583</td>\n",
       "    </tr>\n",
       "    <tr>\n",
       "      <th>1</th>\n",
       "      <td>27533</td>\n",
       "      <td>10004.210369</td>\n",
       "    </tr>\n",
       "    <tr>\n",
       "      <th>2</th>\n",
       "      <td>27534</td>\n",
       "      <td>8000.623545</td>\n",
       "    </tr>\n",
       "    <tr>\n",
       "      <th>3</th>\n",
       "      <td>27535</td>\n",
       "      <td>15062.223593</td>\n",
       "    </tr>\n",
       "    <tr>\n",
       "      <th>4</th>\n",
       "      <td>27536</td>\n",
       "      <td>8994.715270</td>\n",
       "    </tr>\n",
       "  </tbody>\n",
       "</table>\n",
       "</div>"
      ],
      "text/plain": [
       "       0             1\n",
       "0  27532  14994.540583\n",
       "1  27533  10004.210369\n",
       "2  27534   8000.623545\n",
       "3  27535  15062.223593\n",
       "4  27536   8994.715270"
      ]
     },
     "execution_count": 29,
     "metadata": {},
     "output_type": "execute_result"
    }
   ],
   "source": [
    "#submit_sample.csvを読み込み\n",
    "submit = pd.read_csv(\"../data/submit_sample.csv\", header=None)\n",
    "submit.head()"
   ]
  },
  {
   "cell_type": "code",
   "execution_count": 30,
   "id": "71e994f1",
   "metadata": {},
   "outputs": [
    {
     "data": {
      "text/html": [
       "<div>\n",
       "<style scoped>\n",
       "    .dataframe tbody tr th:only-of-type {\n",
       "        vertical-align: middle;\n",
       "    }\n",
       "\n",
       "    .dataframe tbody tr th {\n",
       "        vertical-align: top;\n",
       "    }\n",
       "\n",
       "    .dataframe thead th {\n",
       "        text-align: right;\n",
       "    }\n",
       "</style>\n",
       "<table border=\"1\" class=\"dataframe\">\n",
       "  <thead>\n",
       "    <tr style=\"text-align: right;\">\n",
       "      <th></th>\n",
       "      <th>0</th>\n",
       "      <th>1</th>\n",
       "    </tr>\n",
       "  </thead>\n",
       "  <tbody>\n",
       "    <tr>\n",
       "      <th>0</th>\n",
       "      <td>27532</td>\n",
       "      <td>11871.85</td>\n",
       "    </tr>\n",
       "    <tr>\n",
       "      <th>1</th>\n",
       "      <td>27533</td>\n",
       "      <td>10892.06</td>\n",
       "    </tr>\n",
       "    <tr>\n",
       "      <th>2</th>\n",
       "      <td>27534</td>\n",
       "      <td>6715.02</td>\n",
       "    </tr>\n",
       "    <tr>\n",
       "      <th>3</th>\n",
       "      <td>27535</td>\n",
       "      <td>16147.14</td>\n",
       "    </tr>\n",
       "    <tr>\n",
       "      <th>4</th>\n",
       "      <td>27536</td>\n",
       "      <td>7925.45</td>\n",
       "    </tr>\n",
       "  </tbody>\n",
       "</table>\n",
       "</div>"
      ],
      "text/plain": [
       "       0         1\n",
       "0  27532  11871.85\n",
       "1  27533  10892.06\n",
       "2  27534   6715.02\n",
       "3  27535  16147.14\n",
       "4  27536   7925.45"
      ]
     },
     "execution_count": 30,
     "metadata": {},
     "output_type": "execute_result"
    }
   ],
   "source": [
    "#submit_sampleのpriceの数値部分を予測データpredictに変更する\n",
    "submit[1] = predict\n",
    "submit.head()"
   ]
  },
  {
   "cell_type": "code",
   "execution_count": 31,
   "id": "edd847bc",
   "metadata": {},
   "outputs": [],
   "source": [
    "#submission.csvでデータを保存(提出様式はindex=False, header=Noneとなります。)\n",
    "submit.to_csv(\"../submit-file/20230726_submission.csv\", index=False, header=None)"
   ]
  }
 ],
 "metadata": {
  "kernelspec": {
   "display_name": "Python 3 (ipykernel)",
   "language": "python",
   "name": "python3"
  },
  "language_info": {
   "codemirror_mode": {
    "name": "ipython",
    "version": 3
   },
   "file_extension": ".py",
   "mimetype": "text/x-python",
   "name": "python",
   "nbconvert_exporter": "python",
   "pygments_lexer": "ipython3",
   "version": "3.11.4"
  }
 },
 "nbformat": 4,
 "nbformat_minor": 5
}
